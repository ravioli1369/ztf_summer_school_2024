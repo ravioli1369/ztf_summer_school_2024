{
 "cells": [
  {
   "cell_type": "markdown",
   "metadata": {},
   "source": [
    "# Machine Learning for Time Domain Astronomy\n",
    "ZTF Summer School 2023\n",
    "\n",
    "----"
   ]
  },
  {
   "cell_type": "markdown",
   "metadata": {},
   "source": [
    "**First, please visit the ZTF website at: https://ztf.caltech.edu to learn understand what exciting science is being done with ZTF data!**\n",
    "\n",
    "\n",
    "Requirements:\n",
    "- Matrix Convolution/Kernel operations: https://en.wikipedia.org/wiki/Kernel_(image_processing)\n",
    "- Neural Networks/Perceptron: http://neuralnetworksanddeeplearning.com/chap1.html#perceptrons\n",
    "- Convolutional Neural Networks (CNN): http://neuralnetworksanddeeplearning.com/chap6.html#introducing_convolutional_networks\n",
    "- Tensorflow and Keras, which we'll use to create the models and train them: https://www.tensorflow.org/tutorials/keras/classification\n",
    "- ZTF alerts: https://www.ztf.caltech.edu/ztf-alert-stream.html and https://iopscience.iop.org/article/10.1088/1538-3873/aae904/pdf\n",
    "\n",
    "Optional, but recommended:\n",
    "- Weights and Biases Quickstart: https://docs.wandb.ai/quickstart (you will need to create an account anyway!)\n",
    "- Early stopping: https://en.wikipedia.org/wiki/Early_stopping\n",
    "- Dropout: https://en.wikipedia.org/wiki/Dilution_(neural_networks)\n",
    "- Plateau phenomenon: https://analyticsindiamag.com/what-is-the-plateau-problem-in-neural-networks-and-how-to-fix-it\n"
   ]
  },
  {
   "cell_type": "markdown",
   "metadata": {},
   "source": [
    "----"
   ]
  },
  {
   "cell_type": "markdown",
   "metadata": {},
   "source": [
    "Overview:\n",
    "\n",
    "We'll have a look at how the alert scanning process can be automatized (or at least facilitated) by teaching neural networks how to look at the cutouts and metadata from the alert packets just like humans would. We'll talk about the model's architecture, how to train it, evaluate it, and how to fine-tune it with the help of wandb.ai.\n"
   ]
  },
  {
   "cell_type": "markdown",
   "metadata": {},
   "source": [
    "----"
   ]
  },
  {
   "cell_type": "markdown",
   "metadata": {},
   "source": [
    "##### Requirements:\n",
    "1. Python 3.8 or later\n",
    "2. Simply install the requirements with `pip install -r requirements.txt`"
   ]
  },
  {
   "cell_type": "code",
   "execution_count": 46,
   "metadata": {},
   "outputs": [],
   "source": [
    "# but of course, let's start with the imports\n",
    "import numpy as np\n",
    "import pandas as pd\n",
    "import tensorflow as tf\n",
    "import wandb\n",
    "from ast import literal_eval\n",
    "import scipy\n",
    "\n",
    "from tensorflow import keras\n",
    "from keras.layers import Dense, Conv2D, MaxPooling2D, Flatten, Dropout, Concatenate"
   ]
  },
  {
   "cell_type": "markdown",
   "metadata": {},
   "source": [
    "##### Downloading the dataset:\n",
    "1. Go to https://drive.usercontent.google.com/download?id=16ufsYYbpJ0ZWw2ZIibPfQQ81k7OBNl9Z&export=download&authuser=0\n",
    "2. Place the downloaded ZIP file in the same directory as this notebook\n",
    "3. Unzip the file, and you're ready to go!"
   ]
  },
  {
   "cell_type": "markdown",
   "metadata": {},
   "source": [
    "----"
   ]
  },
  {
   "cell_type": "markdown",
   "metadata": {},
   "source": [
    "## Introduction"
   ]
  },
  {
   "cell_type": "markdown",
   "metadata": {},
   "source": [
    "### Quick reminder: Convolutional Neural Network (CNN)"
   ]
  },
  {
   "cell_type": "markdown",
   "metadata": {},
   "source": [
    "\"In deep learning, a convolutional neural network (CNN) is a class of artificial neural network most commonly applied to analyze visual imagery.[1] CNNs use a mathematical operation called convolution in place of general matrix multiplication in at least one of their layers.[2] They are specifically designed to process pixel data and are used in image recognition and processing.\"\n",
    "*https://en.wikipedia.org/wiki/Convolutional_neural_network*"
   ]
  },
  {
   "cell_type": "markdown",
   "metadata": {},
   "source": [
    "<img src=\"https://miro.medium.com/v2/resize:fit:1162/format:webp/1*tvwYybdIwvoOs0DuUEJJTg.png\" alt=\"Drawing\" style=\"width: 800px;\"/>\n",
    "<p style=\"font-size: 10px;\">Source: https://medium.com/techiepedia/binary-image-classifier-cnn-using-tensorflow-a3f5d6746697</p>\n"
   ]
  },
  {
   "cell_type": "markdown",
   "metadata": {},
   "source": [
    "A basic CNN is composed of several layers:\n",
    "- Convolutional layers: they apply a convolution operation to the input, passing the result to the next layer.\n",
    "- Pooling layers: they downsample the input along the spatial dimensions (width, height), reducing the number of parameters and computation in the network.\n",
    "- Fully connected layers: they compute the class scores, resulting in a vector of size equal to the number of classes. If the classification we expect is binary (simply True if >0.5, otherwise False), the last layer is a single neuron with a sigmoid activation function."
   ]
  },
  {
   "cell_type": "markdown",
   "metadata": {},
   "source": [
    "The input can be either a single image, composed of one or more channels (e.g. RGB), or a batch of images of the same size. When it comes to the cutouts found in the ZTF alert packets, they are a set of 3 images (science, template, difference) of size 63x63 pixels, each with 1 channel (grayscale). Meaning the imput is of size (63, 63, 3)."
   ]
  },
  {
   "cell_type": "markdown",
   "metadata": {},
   "source": [
    "<img src=\"./alert_cutouts.png\" alt=\"Drawing\" style=\"width: 800px;\"/>\n",
    "<p style=\"font-size: 10px;\">Screenshot (from fritz.science) of the cutouts from the latest alert for ZTF23aaqqfac</p>"
   ]
  },
  {
   "cell_type": "markdown",
   "metadata": {},
   "source": [
    "### What about metadata?\n",
    "\n",
    "Often, the data available isn't just one or more image, but also metadata that was computed which can be used to improve the classification. For example, the metadata can be the position of the object, the time of the observation, the magnitude of the object, etc. The metadata can be used in two ways:\n",
    "- As an additional input to the CNN, concatenated to the image.\n",
    "- As an additional input to the CNN, concatenated to the output of the last convolutional layer.\n",
    "\n",
    "Later in this notebook, you'll see that the process of \"merging\" the CNN model and the metadata (which is a classic neural network) model into one is extremely simple.\n",
    "\n",
    "The metadata goes through its own set of fully connected layers, and the output is concatenated to the output of the last convolutional layer after it has been flattened. The resulting vector is then fed to the fully connected layers that later compute the class scores. The BTS model aims to predict one thing: the probability that the object is a bright transient, of interest for the Bright Transient Survey (BTS) group.\n",
    "\n",
    "<img src=\"http://neuralnetworksanddeeplearning.com/images/tikz11.png\" alt=\"Drawing\" style=\"width: 800px; background-color: white;\"/>\n",
    "<p style=\"font-size: 10px;\">Basic neural network with 2 hidden layers, with one neuron as an ouput to perform binary classification. Just like the one our alert metadata will go through. Source: http://neuralnetworksanddeeplearning.com/chap1.html</p>"
   ]
  },
  {
   "cell_type": "markdown",
   "metadata": {},
   "source": [
    "### But why do we need AI for any of this?"
   ]
  },
  {
   "cell_type": "markdown",
   "metadata": {},
   "source": [
    "<img src=\"https://substackcdn.com/image/fetch/f_auto,q_auto:good,fl_progressive:steep/https%3A%2F%2Fsubstack-post-media.s3.amazonaws.com%2Fpublic%2Fimages%2Fa327668d-b172-44e7-a2b0-4671c235ce79_682x500.jpeg\" alt=\"Drawing\" style=\"width: 600px;\"/>"
   ]
  },
  {
   "cell_type": "markdown",
   "metadata": {},
   "source": [
    "\"The Bright Transient Survey (BTS) relies on visual inspection (“scanning”) to select sources\n",
    "for accomplishing its mission of spectroscopically classifying all bright extragalactic transients\n",
    "found by the Zwicky Transient Facility (ZTF).\n",
    "We present BTSbot, a multi-input convolutional\n",
    "neural network, which provides a bright transient\n",
    "score to individual ZTF detections using their image data and 14 extracted features. BTSbot eliminates the need for scanning by automatically identifying and requesting follow-up observations of\n",
    "new bright (magpsf < 18.5 mag) transient candidates.\n",
    "In validation, BTSbot outperforms BTS scanners in terms of completeness (99% vs. 95%) and\n",
    "identification speed (on average, 7.4 h quicker).\"\n",
    "\n",
    "Source: Nabeel Rehemtulla, BTSbot's creator :)"
   ]
  },
  {
   "cell_type": "markdown",
   "metadata": {},
   "source": [
    "To summarize: Instead of relying on people to look at thousands of alerts every day to find which ones are worth getting a spectrum for, we train a model to do it for us. Just like a person scanning, the model can look at both images and metadata, except more consistently and orders of magnitude faster."
   ]
  },
  {
   "cell_type": "markdown",
   "metadata": {},
   "source": [
    "----"
   ]
  },
  {
   "cell_type": "markdown",
   "metadata": {},
   "source": [
    "## BTS model\n",
    "\n",
    "As mentioned earlier, the model comprises two parts: the CNN and the metadata part, merged to yield one output. Here is what it looks like:"
   ]
  },
  {
   "cell_type": "markdown",
   "metadata": {},
   "source": [
    "### Architecture:"
   ]
  },
  {
   "cell_type": "markdown",
   "metadata": {},
   "source": [
    "CNN model:\n",
    "- 2 blocks of 2 convolutional layers, each followed by a pooling layer, and a dropout layer.\n",
    "- a flatten layer.\n",
    "\n",
    "Metadata model:\n",
    "- 2 fully connected layers.\n",
    "\n",
    "Merged model:\n",
    "- the output of the flatten layer of the CNN model is concatenated to the output of the metadata model.\n",
    "- Followed by one fully connected layer, a dropout layer, and the output layer (a single neuron with a sigmoid activation function).\n"
   ]
  },
  {
   "cell_type": "code",
   "execution_count": 23,
   "metadata": {},
   "outputs": [],
   "source": [
    "# we define some basic constants.\n",
    "config = {\n",
    "    'image_size': (63,63,3),\n",
    "    'metadata_size': (14,),\n",
    "    'dropout_1': 0.3,\n",
    "    'dropout_2': 0.3,\n",
    "    'dropout_3': 0.3,\n",
    "}"
   ]
  },
  {
   "cell_type": "markdown",
   "metadata": {},
   "source": [
    "Inputs:"
   ]
  },
  {
   "cell_type": "code",
   "execution_count": 24,
   "metadata": {},
   "outputs": [],
   "source": [
    "# first we prepare the input layers\n",
    "triplet_input = keras.Input(shape=config[\"image_size\"], name='triplet')\n",
    "meta_input = keras.Input(shape=config[\"metadata_size\"], name='metadata')"
   ]
  },
  {
   "cell_type": "markdown",
   "metadata": {},
   "source": [
    "CNN part of the model:"
   ]
  },
  {
   "cell_type": "code",
   "execution_count": 25,
   "metadata": {},
   "outputs": [],
   "source": [
    "# first conv block\n",
    "x_conv = Conv2D(16, (3, 3), activation='relu', padding='same', input_shape=(63, 63, 3), name='conv1')(triplet_input)\n",
    "x_conv = Conv2D(16, (3, 3), activation='relu', padding='same', name='conv2')(x_conv)\n",
    "x_conv = MaxPooling2D(pool_size=(2, 2), name='pool1')(x_conv)\n",
    "x_conv = Dropout(config[\"dropout_1\"], name='drop1')(x_conv)\n",
    "\n",
    "# second conv block\n",
    "x_conv = Conv2D(32, (3, 3), activation='relu', padding='same', name='conv3')(x_conv)\n",
    "x_conv = Conv2D(32, (3, 3), activation='relu', padding='same', name='conv4')(x_conv)\n",
    "x_conv = MaxPooling2D(pool_size=(4, 4), name='pool2')(x_conv)\n",
    "x_conv = Dropout(config[\"dropout_2\"], name='drop2')(x_conv)\n",
    "\n",
    "# we flatten the output\n",
    "x_conv = Flatten()(x_conv)"
   ]
  },
  {
   "cell_type": "markdown",
   "metadata": {},
   "source": [
    "Metadata part of the model:"
   ]
  },
  {
   "cell_type": "code",
   "execution_count": 26,
   "metadata": {},
   "outputs": [],
   "source": [
    "# Metadata model\n",
    "x_meta = Dense(16, activation='relu', name='metadata_fc_1')(meta_input)\n",
    "x_meta = Dense(32, activation='relu', name='metadata_fc_2')(x_meta)"
   ]
  },
  {
   "cell_type": "markdown",
   "metadata": {},
   "source": [
    "Putting it all together:"
   ]
  },
  {
   "cell_type": "code",
   "execution_count": 27,
   "metadata": {},
   "outputs": [],
   "source": [
    "# Merged model\n",
    "x = Concatenate(axis=1)([x_conv, x_meta])\n",
    "x = Dense(16, activation='relu', name='comb_fc_2')(x)\n",
    "x = Dropout(config[\"dropout_3\"])(x)\n",
    "\n",
    "# Output (binary classification, a single sigmoid neuron giving us a score between 0 (not BTS) and 1 (BTS!!!))\n",
    "output = Dense(1, activation='sigmoid', name='fc_out')(x)"
   ]
  },
  {
   "cell_type": "markdown",
   "metadata": {},
   "source": [
    "We compile the model:"
   ]
  },
  {
   "cell_type": "code",
   "execution_count": 28,
   "metadata": {},
   "outputs": [],
   "source": [
    "model = keras.Model(inputs=[triplet_input, meta_input], outputs=output, name=\"mi_cnn\")"
   ]
  },
  {
   "cell_type": "markdown",
   "metadata": {},
   "source": [
    "Let's have a look at the model with a graph:"
   ]
  },
  {
   "cell_type": "markdown",
   "metadata": {},
   "source": [
    "<img src=\"./model.png\" alt=\"Drawing\" style=\"width: 500px;\"/>\n",
    "\n",
    "Easy, right? :)"
   ]
  },
  {
   "cell_type": "markdown",
   "metadata": {},
   "source": [
    "Let's just test it on a fake input, to verify that the model is working as expected (all the layers are connected correctly, the inputs and outputs has the right shape, etc.)"
   ]
  },
  {
   "cell_type": "code",
   "execution_count": 29,
   "metadata": {},
   "outputs": [
    {
     "name": "stdout",
     "output_type": "stream",
     "text": [
      "1/1 [==============================] - 0s 73ms/step\n"
     ]
    },
    {
     "data": {
      "text/plain": [
       "array([[0.5]], dtype=float32)"
      ]
     },
     "execution_count": 29,
     "metadata": {},
     "output_type": "execute_result"
    }
   ],
   "source": [
    "fake_triplet = np.zeros((1, 63, 63, 3))\n",
    "fake_meta = np.zeros((1, 14))\n",
    "\n",
    "model.predict([fake_triplet, fake_meta])"
   ]
  },
  {
   "cell_type": "markdown",
   "metadata": {},
   "source": [
    "Let's just refactor all this to have a nice method to instantiate a model:"
   ]
  },
  {
   "cell_type": "code",
   "execution_count": 30,
   "metadata": {},
   "outputs": [],
   "source": [
    "def BTSModel(config):\n",
    "    #image size and metadata size might be strings, so we convert them to tuples with a literal eval\n",
    "    if type(config[\"image_size\"]) == str:\n",
    "        image_size = literal_eval(config[\"image_size\"])\n",
    "    else:\n",
    "        image_size = config[\"image_size\"]\n",
    "    if type(config[\"metadata_size\"]) == str:\n",
    "        metadata_size = literal_eval(config[\"metadata_size\"])\n",
    "    else:\n",
    "        metadata_size = config[\"metadata_size\"]\n",
    "\n",
    "    # first we prepare the input layers\n",
    "    triplet_input = keras.Input(shape=image_size, name='triplet')\n",
    "    meta_input = keras.Input(shape=metadata_size, name='metadata')\n",
    "\n",
    "    # first conv block\n",
    "    x_conv = Conv2D(16, (3, 3), activation='relu', padding='same', input_shape=(63, 63, 3), name='conv1')(triplet_input)\n",
    "    x_conv = Conv2D(16, (3, 3), activation='relu', padding='same', name='conv2')(x_conv)\n",
    "    x_conv = MaxPooling2D(pool_size=(2, 2), name='pool1')(x_conv)\n",
    "    x_conv = Dropout(config[\"dropout_1\"], name='drop1')(x_conv)\n",
    "\n",
    "    # second conv block\n",
    "    x_conv = Conv2D(32, (3, 3), activation='relu', padding='same', name='conv3')(x_conv)\n",
    "    x_conv = Conv2D(32, (3, 3), activation='relu', padding='same', name='conv4')(x_conv)\n",
    "    x_conv = MaxPooling2D(pool_size=(4, 4), name='pool2')(x_conv)\n",
    "    x_conv = Dropout(config[\"dropout_2\"], name='drop2')(x_conv)\n",
    "\n",
    "    # we flatten the output\n",
    "    x_conv = Flatten()(x_conv)\n",
    "\n",
    "    # Metadata model\n",
    "    x_meta = Dense(16, activation='relu', name='metadata_fc_1')(meta_input)\n",
    "    x_meta = Dense(32, activation='relu', name='metadata_fc_2')(x_meta)\n",
    "\n",
    "    # Merged model\n",
    "    x = Concatenate(axis=1)([x_conv, x_meta])\n",
    "    x = Dense(16, activation='relu', name='comb_fc_2')(x)\n",
    "    x = Dropout(config[\"dropout_3\"])(x)\n",
    "\n",
    "    # Output (binary classification, a single sigmoid neuron giving us a score between 0 (not BTS) and 1 (BTS!!!))\n",
    "    output = Dense(1, activation='sigmoid', name='fc_out')(x)\n",
    "\n",
    "    model = keras.Model(inputs=[triplet_input, meta_input], outputs=output, name=\"mi_cnn\")\n",
    "\n",
    "    return model"
   ]
  },
  {
   "cell_type": "markdown",
   "metadata": {},
   "source": [
    "Great, we have a model that works. But just like a baby's brain (but even worse), this thing can't do anything! It needs to be trained through trial and error, just like the scanners would. Let's spoon feed it with a ton of data so it can steal our jobs faster :)\n",
    "\n",
    "<img src=\"https://styles.redditmedia.com/t5_adbcw/styles/communityIcon_anc30b6ykk461.jpg\" alt=\"Drawing\" style=\"width: 400px;\"/>\n",
    "<p style=\"font-size: 10px;\">Source: https://www.reddit.com/r/machinelearningmemes</p>"
   ]
  },
  {
   "cell_type": "markdown",
   "metadata": {},
   "source": [
    "### Training the model\n",
    "\n",
    "We'll start by creating a training loop, which will be used to train the model."
   ]
  },
  {
   "cell_type": "code",
   "execution_count": 31,
   "metadata": {},
   "outputs": [],
   "source": [
    "# we add to our config some of the constants used in the training process\n",
    "config.update({\n",
    "    'batch_size': 8,\n",
    "    'epochs': 10,\n",
    "    'learning_rate': 0.001,\n",
    "    'loss': 'binary_crossentropy',\n",
    "    'optimizer': 'adam',\n",
    "    'random_seed': 42,\n",
    "    'train_data_version': \"ZTFSS\",\n",
    "    'early_stopping_patience': 10,\n",
    "    'LR_plateau_patience': 20,\n",
    "    'reduce_LR_factor': 0.5,\n",
    "    'reduce_LR_minLR': 1e-6, \n",
    "    'beta_1': 0.9,\n",
    "    'beta_2': 0.999,\n",
    "    'metadata_cols': [\n",
    "      \"sgscore1\",\n",
    "      \"distpsnr1\",\n",
    "      \"sgscore2\",\n",
    "      \"distpsnr2\",\n",
    "      \"fwhm\",\n",
    "      \"magpsf\",\n",
    "      \"sigmapsf\",\n",
    "      \"ra\",\n",
    "      \"dec\",\n",
    "      \"diffmaglim\",\n",
    "      \"ndethist\",\n",
    "      \"nmtchps\",\n",
    "      \"age\",\n",
    "      \"peakmag_so_far\"\n",
    "    ],\n",
    "})"
   ]
  },
  {
   "cell_type": "code",
   "execution_count": 32,
   "metadata": {},
   "outputs": [],
   "source": [
    "tf.keras.backend.clear_session()\n",
    "tf.keras.utils.set_random_seed(config[\"random_seed\"])"
   ]
  },
  {
   "cell_type": "markdown",
   "metadata": {},
   "source": [
    "##### Loading the data:\n",
    "For this session, the dataset is already prepared and stored for you to use. It is composed of N alerts, each with 3 cutouts (science, template, difference) and 14 metadata features (2 of these features have been computed by us based on the alert history for a given object, and do not come with the basic alert packet). The training set is used to train the model, the validation set is used to evaluate the model during training.\n",
    "\n",
    "Later (after the training), we'll use the test set to evaluate the model on data it has never seen before. This is important to make sure the model is not overfitting the training data, and that it can generalize to new data."
   ]
  },
  {
   "cell_type": "code",
   "execution_count": 33,
   "metadata": {},
   "outputs": [
    {
     "name": "stdout",
     "output_type": "stream",
     "text": [
      "Training set: 7770 candidates, 7770 triplets\n",
      "Validation set: 2589 candidates, 2589 triplets\n"
     ]
    }
   ],
   "source": [
    "cand = pd.read_csv(f'data/train_cand_{config[\"train_data_version\"]}.csv')\n",
    "triplets = np.load(f'data/train_triplets_{config[\"train_data_version\"]}.npy', mmap_mode='r+')\n",
    "\n",
    "# split the data into training and validation sets\n",
    "val_indexes = np.random.choice(cand.index, size=int(len(cand) * 0.25), replace=False)\n",
    "train_indexes = np.array(list(set(cand.index) - set(val_indexes)))\n",
    "\n",
    "val_cand = cand.loc[val_indexes]\n",
    "val_triplets = triplets[np.isin(cand.index, val_indexes)]\n",
    "\n",
    "triplets = triplets[np.isin(cand.index, train_indexes)]\n",
    "cand = cand.loc[train_indexes]\n",
    "\n",
    "# print the shape of everything\n",
    "print(f\"Training set: {cand.shape[0]} candidates, {triplets.shape[0]} triplets\")\n",
    "print(f\"Validation set: {val_cand.shape[0]} candidates, {val_triplets.shape[0]} triplets\")\n",
    "\n",
    "gen_cols = np.append(config['metadata_cols'], ['label'])\n",
    "\n",
    "x_train, y_train = triplets, cand['label']\n",
    "x_val, y_val = val_triplets, val_cand['label']\n",
    "\n",
    "# train_df is a combination of the desired metadata cols and y_train (labels)\n",
    "# we provide the model a custom generator function to separate these as necessary\n",
    "train_df = cand[gen_cols]\n",
    "val_df = val_cand[gen_cols]\n"
   ]
  },
  {
   "cell_type": "markdown",
   "metadata": {},
   "source": [
    "Next, we prepare the data a little further for the training loop. We'll use the tf.keras.preprocessing.image.ImageDataGenerator to perform some data augmentation, which will help the model generalize better.\n",
    "\n",
    "Also, we will weight the classes to account for the class imbalance. The weight of each class is the inverse of the class frequency in the training set, in case we have more BTS than non-BTS objects, or the opposite. This will help the model learn to classify both classes equally well, and reduce the false positives and false negatives rates."
   ]
  },
  {
   "cell_type": "code",
   "execution_count": 34,
   "metadata": {},
   "outputs": [],
   "source": [
    "train_datagen = tf.keras.preprocessing.image.ImageDataGenerator()\n",
    "val_datagen = tf.keras.preprocessing.image.ImageDataGenerator()\n",
    "\n",
    "t_generator = train_datagen.flow(x_train, train_df, batch_size=config[\"batch_size\"], seed=config[\"random_seed\"], shuffle=False)\n",
    "v_generator = val_datagen.flow(x_val, val_df, batch_size=config[\"batch_size\"], seed=config[\"random_seed\"], shuffle=False)\n",
    "\n",
    "def multiinput_train_generator():\n",
    "    while True:\n",
    "        # get the data from the generator\n",
    "        # data is [[img], [metadata and labels]]\n",
    "        # yields batch_size number of entries\n",
    "        data = t_generator.next()\n",
    "\n",
    "        imgs = data[0]\n",
    "        cols = data[1][:,:-1]\n",
    "        targets = data[1][:,-1:]\n",
    "\n",
    "        yield [imgs, cols], targets\n",
    "\n",
    "def multiinput_val_generator():\n",
    "    while True:\n",
    "        data = v_generator.next()\n",
    "\n",
    "        imgs = data[0]\n",
    "        cols = data[1][:,:-1]\n",
    "        targets = data[1][:,-1:]\n",
    "\n",
    "        yield [imgs, cols], targets\n",
    "\n",
    "training_generator = multiinput_train_generator()\n",
    "validation_generator = multiinput_val_generator()\n",
    "\n",
    "# weight data on number of ALERTS per class\n",
    "num_training_examples_per_class = np.array([np.sum(cand['label'] == 0), np.sum(cand['label'] == 1)])\n",
    "\n",
    "# fewer examples -> larger weight\n",
    "weights = (1 / num_training_examples_per_class) / np.linalg.norm((1 / num_training_examples_per_class))\n",
    "normalized_weight = weights / np.max(weights)\n",
    "\n",
    "class_weight = {i: w for i, w in enumerate(normalized_weight)}"
   ]
  },
  {
   "cell_type": "markdown",
   "metadata": {},
   "source": [
    "Instead of training our model for a fixed number of epochs, we'll use early stopping. This means that the model will train until it stops improving, and then stop. This is done by monitoring the validation loss, and stopping the training if it doesn't improve for a set number of epochs (patience).\n",
    "Also, to keep training further once we plateau, we'll use a learning rate scheduler. This will reduce the learning rate by a factor of N (dividing it) once the validation loss stops improving for a set number of epochs (patience).\n",
    "\n",
    "You might have seen in the config earlier that we still specify a number of epochs. You can see this as a maximum number of epochs, which will be reached if the model doesn't stop training before with early stopping."
   ]
  },
  {
   "cell_type": "code",
   "execution_count": 35,
   "metadata": {},
   "outputs": [],
   "source": [
    "# we set some rules to stop the training process early if the validation loss does not improve\n",
    "# halt training if no improvement in validation loss over patience epochs\n",
    "early_stopping = tf.keras.callbacks.EarlyStopping(\n",
    "    monitor='val_loss',\n",
    "    verbose=1, \n",
    "    patience=config['early_stopping_patience']\n",
    ")\n",
    "\n",
    "# reduce learning rate if no improvement in validation loss over patience epochs\n",
    "LR_plateau = tf.keras.callbacks.ReduceLROnPlateau(\n",
    "    monitor=\"val_loss\", \n",
    "    patience=config['LR_plateau_patience'],\n",
    "    factor=config['reduce_LR_factor'],\n",
    "    min_lr=config['reduce_LR_minLR'],\n",
    "    verbose=0\n",
    ")"
   ]
  },
  {
   "cell_type": "markdown",
   "metadata": {},
   "source": [
    "We'll use [Weights and Biases](https://wandb.ai/) to log the training metrics, and to save the model. You can create a free account on https://wandb.ai/ to log your own metrics. Later in this notebook, we'll make even better use of wandb.ai to fine-tune the model with the *sweeps* feature."
   ]
  },
  {
   "cell_type": "code",
   "execution_count": 36,
   "metadata": {},
   "outputs": [
    {
     "data": {
      "text/html": [
       "Finishing last run (ID:agdrrrbm) before initializing another..."
      ],
      "text/plain": [
       "<IPython.core.display.HTML object>"
      ]
     },
     "metadata": {},
     "output_type": "display_data"
    },
    {
     "data": {
      "application/vnd.jupyter.widget-view+json": {
       "model_id": "09dd6c95ba984956aefe58018b2e6cda",
       "version_major": 2,
       "version_minor": 0
      },
      "text/plain": [
       "VBox(children=(Label(value='0.003 MB of 0.003 MB uploaded\\r'), FloatProgress(value=1.0, max=1.0)))"
      ]
     },
     "metadata": {},
     "output_type": "display_data"
    },
    {
     "data": {
      "text/html": [
       "<style>\n",
       "    table.wandb td:nth-child(1) { padding: 0 10px; text-align: left ; width: auto;} td:nth-child(2) {text-align: left ; width: 100%}\n",
       "    .wandb-row { display: flex; flex-direction: row; flex-wrap: wrap; justify-content: flex-start; width: 100% }\n",
       "    .wandb-col { display: flex; flex-direction: column; flex-basis: 100%; flex: 1; padding: 10px; }\n",
       "    </style>\n",
       "<div class=\"wandb-row\"><div class=\"wandb-col\"><h3>Run history:</h3><br/><table class=\"wandb\"><tr><td>batch/accuracy</td><td>▁▂▃▄▆▅▅▆▇▆▆▆▆▇▇▆█▆▇▇▇▇▇▇▇▇▆▆█▇▇▇▇█▇▇▇▇▇▇</td></tr><tr><td>batch/batch_step</td><td>▁▁▁▂▂▂▂▂▂▃▃▃▃▃▃▄▄▄▄▄▅▅▅▅▅▅▆▆▆▆▆▇▇▇▇▇▇███</td></tr><tr><td>batch/learning_rate</td><td>▁▁▁▁▁▁▁▁▁▁▁▁▁▁▁▁▁▁▁▁▁▁▁▁▁▁▁▁▁▁▁▁▁▁▁▁▁▁▁▁</td></tr><tr><td>batch/loss</td><td>█▆▄▄▂▂▂▂▂▂▂▂▂▂▂▂▁▂▂▂▂▂▂▂▁▂▂▂▁▁▁▁▁▁▁▁▁▁▁▁</td></tr><tr><td>epoch/accuracy</td><td>▁▄▅▅▆█▆▇██</td></tr><tr><td>epoch/epoch</td><td>▁▂▃▃▄▅▆▆▇█</td></tr><tr><td>epoch/learning_rate</td><td>▁▁▁▁▁▁▁▁▁▁</td></tr><tr><td>epoch/loss</td><td>█▄▄▃▂▂▃▂▁▁</td></tr><tr><td>epoch/lr</td><td>▁▁▁▁▁▁▁▁▁▁</td></tr><tr><td>epoch/val_accuracy</td><td>▅▅▆▄▂▆▅█▁▅</td></tr><tr><td>epoch/val_loss</td><td>▅▂▁▁▆▂▃▂█▂</td></tr></table><br/></div><div class=\"wandb-col\"><h3>Run summary:</h3><br/><table class=\"wandb\"><tr><td>batch/accuracy</td><td>0.75789</td></tr><tr><td>batch/batch_step</td><td>7795</td></tr><tr><td>batch/learning_rate</td><td>0.001</td></tr><tr><td>batch/loss</td><td>0.51364</td></tr><tr><td>epoch/accuracy</td><td>0.75804</td></tr><tr><td>epoch/epoch</td><td>9</td></tr><tr><td>epoch/learning_rate</td><td>0.001</td></tr><tr><td>epoch/loss</td><td>0.51335</td></tr><tr><td>epoch/lr</td><td>0.001</td></tr><tr><td>epoch/val_accuracy</td><td>0.60747</td></tr><tr><td>epoch/val_loss</td><td>0.73772</td></tr></table><br/></div></div>"
      ],
      "text/plain": [
       "<IPython.core.display.HTML object>"
      ]
     },
     "metadata": {},
     "output_type": "display_data"
    },
    {
     "data": {
      "text/html": [
       " View run <strong style=\"color:#cdcd00\">radiant-sky-3</strong> at: <a href='https://wandb.ai/ravioli1369-indian-institute-of-technology-bombay/BTSbot/runs/agdrrrbm' target=\"_blank\">https://wandb.ai/ravioli1369-indian-institute-of-technology-bombay/BTSbot/runs/agdrrrbm</a><br/> View project at: <a href='https://wandb.ai/ravioli1369-indian-institute-of-technology-bombay/BTSbot' target=\"_blank\">https://wandb.ai/ravioli1369-indian-institute-of-technology-bombay/BTSbot</a><br/>Synced 6 W&B file(s), 0 media file(s), 0 artifact file(s) and 0 other file(s)"
      ],
      "text/plain": [
       "<IPython.core.display.HTML object>"
      ]
     },
     "metadata": {},
     "output_type": "display_data"
    },
    {
     "data": {
      "text/html": [
       "Find logs at: <code>./wandb/run-20240805_210528-agdrrrbm/logs</code>"
      ],
      "text/plain": [
       "<IPython.core.display.HTML object>"
      ]
     },
     "metadata": {},
     "output_type": "display_data"
    },
    {
     "data": {
      "text/html": [
       "The new W&B backend becomes opt-out in version 0.18.0; try it out with `wandb.require(\"core\")`! See https://wandb.me/wandb-core for more information."
      ],
      "text/plain": [
       "<IPython.core.display.HTML object>"
      ]
     },
     "metadata": {},
     "output_type": "display_data"
    },
    {
     "data": {
      "text/html": [
       "Successfully finished last run (ID:agdrrrbm). Initializing new run:<br/>"
      ],
      "text/plain": [
       "<IPython.core.display.HTML object>"
      ]
     },
     "metadata": {},
     "output_type": "display_data"
    },
    {
     "data": {
      "application/vnd.jupyter.widget-view+json": {
       "model_id": "9790be6958174d638d88f27d302bd403",
       "version_major": 2,
       "version_minor": 0
      },
      "text/plain": [
       "VBox(children=(Label(value='Waiting for wandb.init()...\\r'), FloatProgress(value=0.011112588085234165, max=1.0…"
      ]
     },
     "metadata": {},
     "output_type": "display_data"
    },
    {
     "data": {
      "text/html": [
       "Tracking run with wandb version 0.17.5"
      ],
      "text/plain": [
       "<IPython.core.display.HTML object>"
      ]
     },
     "metadata": {},
     "output_type": "display_data"
    },
    {
     "data": {
      "text/html": [
       "Run data is saved locally in <code>/home/exouser/Documents/ztf_summer_school_2024/lectures/01-ml/wandb/run-20240806_013844-vclqyv7n</code>"
      ],
      "text/plain": [
       "<IPython.core.display.HTML object>"
      ]
     },
     "metadata": {},
     "output_type": "display_data"
    },
    {
     "data": {
      "text/html": [
       "Syncing run <strong><a href='https://wandb.ai/ravioli1369-indian-institute-of-technology-bombay/BTSbot/runs/vclqyv7n' target=\"_blank\">solar-cloud-4</a></strong> to <a href='https://wandb.ai/ravioli1369-indian-institute-of-technology-bombay/BTSbot' target=\"_blank\">Weights & Biases</a> (<a href='https://wandb.me/run' target=\"_blank\">docs</a>)<br/>"
      ],
      "text/plain": [
       "<IPython.core.display.HTML object>"
      ]
     },
     "metadata": {},
     "output_type": "display_data"
    },
    {
     "data": {
      "text/html": [
       " View project at <a href='https://wandb.ai/ravioli1369-indian-institute-of-technology-bombay/BTSbot' target=\"_blank\">https://wandb.ai/ravioli1369-indian-institute-of-technology-bombay/BTSbot</a>"
      ],
      "text/plain": [
       "<IPython.core.display.HTML object>"
      ]
     },
     "metadata": {},
     "output_type": "display_data"
    },
    {
     "data": {
      "text/html": [
       " View run at <a href='https://wandb.ai/ravioli1369-indian-institute-of-technology-bombay/BTSbot/runs/vclqyv7n' target=\"_blank\">https://wandb.ai/ravioli1369-indian-institute-of-technology-bombay/BTSbot/runs/vclqyv7n</a>"
      ],
      "text/plain": [
       "<IPython.core.display.HTML object>"
      ]
     },
     "metadata": {},
     "output_type": "display_data"
    }
   ],
   "source": [
    "wandb.init(project=\"BTSbot\")\n",
    "# Send parameters of this run to WandB\n",
    "for param in list(config):\n",
    "    wandb.config[param] = config[param]\n",
    "\n",
    "run_name = wandb.run.name\n",
    "WandBLogger = wandb.keras.WandbMetricsLogger(log_freq=5)"
   ]
  },
  {
   "cell_type": "markdown",
   "metadata": {},
   "source": [
    "We'll use an Adam optimizer, which is a popular optimizer for deep learning. It is an adaptive learning rate optimization algorithm that's been designed specifically for training deep neural networks. It's a little more complex than the classic Stochoastic Gradient Descent (SGD) optimizer, but it's more efficient and requires less manual tuning."
   ]
  },
  {
   "cell_type": "code",
   "execution_count": 37,
   "metadata": {},
   "outputs": [],
   "source": [
    "optimizer = tf.keras.optimizers.Adam(\n",
    "    learning_rate=config['learning_rate'], \n",
    "    beta_1=config['beta_1'],\n",
    "    beta_2=config['beta_2']\n",
    ")\n",
    "model.compile(optimizer=optimizer, loss=config['loss'], metrics=['accuracy'])\n",
    "\n",
    "#PS: If you are using tensorflow v2.11+ on M1/M2/M3 macs, you might benefit from using\n",
    "# the legacy version of the optimizer, which is: tf.keras.optimizers.legacy.Adam, instead of tf.keras.optimizers.Adam"
   ]
  },
  {
   "cell_type": "markdown",
   "metadata": {},
   "source": [
    "**Now (finally!), let's train the model!**"
   ]
  },
  {
   "cell_type": "code",
   "execution_count": 38,
   "metadata": {},
   "outputs": [
    {
     "name": "stdout",
     "output_type": "stream",
     "text": [
      "Epoch 1/10\n"
     ]
    },
    {
     "name": "stdout",
     "output_type": "stream",
     "text": [
      "777/777 [==============================] - 19s 24ms/step - loss: 0.6871 - accuracy: 0.6575 - val_loss: 0.6284 - val_accuracy: 0.6773 - lr: 0.0010\n",
      "Epoch 2/10\n",
      "777/777 [==============================] - 20s 25ms/step - loss: 0.6063 - accuracy: 0.6646 - val_loss: 0.6839 - val_accuracy: 0.6521 - lr: 0.0010\n",
      "Epoch 3/10\n",
      "777/777 [==============================] - 20s 25ms/step - loss: 0.5747 - accuracy: 0.7031 - val_loss: 0.7058 - val_accuracy: 0.6109 - lr: 0.0010\n",
      "Epoch 4/10\n",
      "777/777 [==============================] - 20s 26ms/step - loss: 0.5530 - accuracy: 0.7374 - val_loss: 0.7620 - val_accuracy: 0.5609 - lr: 0.0010\n",
      "Epoch 5/10\n",
      "777/777 [==============================] - 19s 24ms/step - loss: 0.5350 - accuracy: 0.7524 - val_loss: 0.6994 - val_accuracy: 0.6026 - lr: 0.0010\n",
      "Epoch 6/10\n",
      "777/777 [==============================] - 19s 25ms/step - loss: 0.5290 - accuracy: 0.7541 - val_loss: 0.7278 - val_accuracy: 0.5935 - lr: 0.0010\n",
      "Epoch 7/10\n",
      "777/777 [==============================] - 20s 25ms/step - loss: 0.5233 - accuracy: 0.7572 - val_loss: 0.7535 - val_accuracy: 0.6031 - lr: 0.0010\n",
      "Epoch 8/10\n",
      "777/777 [==============================] - 20s 25ms/step - loss: 0.5093 - accuracy: 0.7639 - val_loss: 0.7424 - val_accuracy: 0.6099 - lr: 0.0010\n",
      "Epoch 9/10\n",
      "777/777 [==============================] - 20s 26ms/step - loss: 0.5129 - accuracy: 0.7605 - val_loss: 0.8808 - val_accuracy: 0.5788 - lr: 0.0010\n",
      "Epoch 10/10\n",
      "777/777 [==============================] - 20s 26ms/step - loss: 0.4992 - accuracy: 0.7656 - val_loss: 0.7757 - val_accuracy: 0.5900 - lr: 0.0010\n"
     ]
    }
   ],
   "source": [
    "h = model.fit(\n",
    "    training_generator,\n",
    "    steps_per_epoch=0.8*len(x_train) // config[\"batch_size\"],\n",
    "    validation_data=validation_generator,\n",
    "    validation_steps=(0.8*len(x_val)) // config[\"batch_size\"],\n",
    "    epochs=config[\"epochs\"],\n",
    "    verbose=1, callbacks=[early_stopping, LR_plateau, WandBLogger]\n",
    ")"
   ]
  },
  {
   "cell_type": "markdown",
   "metadata": {},
   "source": [
    "<a id=\"Testing-the-model\"></a>\n",
    "### Testing the model\n",
    "\n",
    "Now, we'll load some test data to evaluate the model on data it has never seen before. This is important to make sure the model is not overfitting the training data, and that it can generalize to new data. Also, it will set a baseline for us to compare the model we'll fine-tune later."
   ]
  },
  {
   "cell_type": "code",
   "execution_count": 39,
   "metadata": {},
   "outputs": [
    {
     "name": "stdout",
     "output_type": "stream",
     "text": [
      "324/324 [==============================] - 1s 4ms/step\n",
      "Overall validation accuracy 59.87%\n"
     ]
    }
   ],
   "source": [
    "raw_preds = model.predict([val_triplets, val_cand.loc[:,config[\"metadata_cols\"]]], batch_size=config['batch_size'], verbose=1)\n",
    "preds = np.rint(np.transpose(raw_preds))[0].astype(int)\n",
    "labels = val_cand[\"label\"].to_numpy(dtype=int)\n",
    "\n",
    "results = preds == labels\n",
    "print(f\"Overall validation accuracy {100*np.sum(results) / len(results):.2f}%\")"
   ]
  },
  {
   "cell_type": "markdown",
   "metadata": {},
   "source": [
    "As you can see, the accuracy is not great all, though as per the training results, it looks like the model was learning from the data as the training accuracy increased, but unfortunately the validation accuracy did not. One issue you might have noticed, is that we didn't learn all that much after the second iteration, we need to fix that.\n",
    "\n",
    "**However**, accuracy isn't the only metric we should look at. There're a lot more metrics that can be used to evaluate a model, and it's important to look at them all to get a better idea of how the model is performing. For example, the accuracy can be misleading if the dataset is imbalanced (which is the case here). If we have 99% of non-BTS objects, and 1% of BTS objects, a model that always predicts non-BTS will have an accuracy of 99%, but it's not a good model. This is why we'll look can look at the confusion matrix, the precision, the recall, and the F1 score."
   ]
  },
  {
   "cell_type": "markdown",
   "metadata": {},
   "source": [
    "**Here is are your first set of tasks:**\n",
    "\n",
    "1. Using matplotlib or your favorite plotting library, plot the confusion matrix for the test set. Hint: You can use the [sklearn.metrics.confusion_matrix](https://scikit-learn.org/stable/modules/generated/sklearn.metrics.confusion_matrix.html) function to compute the confusion matrix, and the [sklearn.metrics.ConfusionMatrixDisplay](https://scikit-learn.org/stable/modules/generated/sklearn.metrics.ConfusionMatrixDisplay.html) to plot it.\n",
    "2. Calculate the precision, recall, and F1 score for the test set. Hint: sklearn has some tools to help you with that :)\n",
    "3. Nowadays, it's also very common to also look at a Receiver Operating Characteristic (ROC) curve and AUC: https://developers.google.com/machine-learning/crash-course/classification/roc-and-auc. Plot the ROC curve and compute the AUC for the test set.\n",
    "\n",
    "For each of the plots and metrics you come up with, try your best to interpret the results. What do they mean? What do they tell you about the model? What can you conclude from them?\n",
    "\n",
    "----\n"
   ]
  },
  {
   "cell_type": "code",
   "execution_count": 57,
   "metadata": {},
   "outputs": [
    {
     "name": "stdout",
     "output_type": "stream",
     "text": [
      "Confusion matrix: \n",
      "[[ 256  436]\n",
      " [ 603 1294]]\n",
      "Precision: 0.37, Recall: 0.30, F1: 0.33\n"
     ]
    }
   ],
   "source": [
    "TP = np.sum(np.logical_and(preds == 1, labels == 1))\n",
    "TN = np.sum(np.logical_and(preds == 0, labels == 0))\n",
    "FP = np.sum(np.logical_and(preds == 1, labels == 0))\n",
    "FN = np.sum(np.logical_and(preds == 0, labels == 1))\n",
    "\n",
    "confusion_matrix = np.array([[TP, FP], [FN, TN]])\n",
    "print(f\"Confusion matrix: \\n{confusion_matrix}\")\n",
    "\n",
    "precision = TP / (TP + FP)\n",
    "recall = TP / (TP + FN)\n",
    "f1 = 2 * (precision * recall) / (precision + recall)\n",
    "\n",
    "print(f\"Precision: {precision:.2f}, Recall: {recall:.2f}, F1: {f1:.2f}\")"
   ]
  },
  {
   "cell_type": "markdown",
   "metadata": {},
   "source": [
    "## Optimization: Grid search using Weights and Biases Sweeps\n",
    "\n",
    "After looking at our basic model's result, we can easily imagine how it can be improved. One way to do that is to try different values for all of the hyperparemeters it uses, hoping to fine-tune their value to get the best result our of our existing model. This is called hyperparameter optimization, and it's a very common practice in machine learning. A great tool to do this automatically is a grid search, which will try all the possible combinations of hyperparameters you want to try, and return the best one. However, this can be very time consuming, and it's not always possible to try all the possible combinations. This is where Weights and Biases Sweeps comes in handy.\n",
    "\n",
    "Let's use wandb.ai to fine-tune the model with their *sweeps* feature, which works pretty much like a grid search, but smarter. We'll use Weights and Biases Sweeps to perform a grid search over the hyperparameters of the model, such as: learning rate, batch size, dropout rate, etc."
   ]
  },
  {
   "cell_type": "markdown",
   "metadata": {},
   "source": [
    "First, we need to put all of the logic above in a function that we can call from the sweep configuration file."
   ]
  },
  {
   "cell_type": "code",
   "execution_count": 58,
   "metadata": {},
   "outputs": [],
   "source": [
    "def train(config):\n",
    "    WandBLogger = wandb.keras.WandbMetricsLogger(log_freq=5)\n",
    "    loss = config['loss']\n",
    "    metadata_cols = [\n",
    "        \"sgscore1\",\n",
    "        \"distpsnr1\",\n",
    "        \"sgscore2\",\n",
    "        \"distpsnr2\",\n",
    "        \"fwhm\",\n",
    "        \"magpsf\",\n",
    "        \"sigmapsf\",\n",
    "        \"ra\",\n",
    "        \"dec\",\n",
    "        \"diffmaglim\",\n",
    "        \"ndethist\",\n",
    "        \"nmtchps\",\n",
    "        \"age\",\n",
    "        \"peakmag_so_far\"\n",
    "    ]\n",
    "    tf.keras.backend.clear_session()\n",
    "    tf.keras.utils.set_random_seed(config[\"random_seed\"])\n",
    "    \n",
    "    cand = pd.read_csv(f'data/train_cand_{config[\"train_data_version\"]}.csv')\n",
    "    triplets = np.load(f'data/train_triplets_{config[\"train_data_version\"]}.npy', mmap_mode='r+')\n",
    "    \n",
    "    # set the random seed, so we can reproduce the results\n",
    "    np.random.seed(config.get(\"random_seed\", 20240729))\n",
    "\n",
    "    # split the data into training and validation sets\n",
    "    val_indexes = np.random.choice(cand.index, size=int(len(cand) * 0.2), replace=False)\n",
    "    train_indexes = np.array(list(set(cand.index) - set(val_indexes)))\n",
    "\n",
    "    val_cand = cand.loc[val_indexes]\n",
    "    val_triplets = triplets[np.isin(cand.index, val_indexes)]\n",
    "\n",
    "    triplets = triplets[np.isin(cand.index, train_indexes)]\n",
    "    cand = cand.loc[train_indexes]\n",
    "\n",
    "    gen_cols = np.append(metadata_cols, ['label'])\n",
    "\n",
    "    x_train, y_train = triplets, cand['label']\n",
    "    x_val, y_val = val_triplets, val_cand['label']\n",
    "\n",
    "    train_df = cand[gen_cols]\n",
    "    val_df = val_cand[gen_cols]\n",
    "\n",
    "\n",
    "    early_stopping = tf.keras.callbacks.EarlyStopping(\n",
    "        monitor='val_loss',\n",
    "        verbose=1, \n",
    "        patience=config['early_stopping_patience']\n",
    "    )\n",
    "\n",
    "    LR_plateau = tf.keras.callbacks.ReduceLROnPlateau(\n",
    "        monitor=\"val_loss\", \n",
    "        patience=config['LR_plateau_patience'],\n",
    "        factor=config['reduce_LR_factor'],\n",
    "        min_lr=config['reduce_LR_minLR'],\n",
    "        verbose=0\n",
    "    )\n",
    "\n",
    "    train_datagen = tf.keras.preprocessing.image.ImageDataGenerator()\n",
    "    val_datagen = tf.keras.preprocessing.image.ImageDataGenerator()\n",
    "\n",
    "    t_generator = train_datagen.flow(x_train, train_df, batch_size=config[\"batch_size\"], seed=config[\"random_seed\"], shuffle=False)\n",
    "    v_generator = val_datagen.flow(x_val, val_df, batch_size=config[\"batch_size\"], seed=config[\"random_seed\"], shuffle=False)\n",
    "\n",
    "    def multiinput_train_generator():\n",
    "        while True:\n",
    "            # get the data from the generator\n",
    "            # data is [[img], [metadata and labels]]\n",
    "            # yields batch_size number of entries\n",
    "            data = t_generator.next()\n",
    "\n",
    "            imgs = data[0]\n",
    "            cols = data[1][:,:-1]\n",
    "            targets = data[1][:,-1:]\n",
    "\n",
    "            yield [imgs, cols], targets\n",
    "\n",
    "    def multiinput_val_generator():\n",
    "        while True:\n",
    "            data = v_generator.next()\n",
    "\n",
    "            imgs = data[0]\n",
    "            cols = data[1][:,:-1]\n",
    "            targets = data[1][:,-1:]\n",
    "\n",
    "            yield [imgs, cols], targets\n",
    "\n",
    "    training_generator = multiinput_train_generator()\n",
    "    validation_generator = multiinput_val_generator()\n",
    "\n",
    "    model = BTSModel(config)\n",
    "    # you might want to replace tf.keras.optimizers.Adam with tf.keras.optimizers.legacy.Adam if you are using tensorflow v2.11+ on M1/M2/M3 macs\n",
    "    optimizer = tf.keras.optimizers.legacy.Adam(\n",
    "        learning_rate=config['learning_rate'], \n",
    "        beta_1=config['beta_1'],\n",
    "        beta_2=config['beta_2']\n",
    "    )\n",
    "\n",
    "    model.compile(optimizer=optimizer, loss=loss, metrics=['accuracy'])\n",
    "    \n",
    "    model.fit(\n",
    "        training_generator,\n",
    "        steps_per_epoch=0.8*len(x_train) // config[\"batch_size\"],\n",
    "        validation_data=validation_generator,\n",
    "        validation_steps=(0.8*len(x_val)) // config[\"batch_size\"],\n",
    "        #class_weight=class_weight,\n",
    "        epochs=config[\"epochs\"],\n",
    "        verbose=1, callbacks=[early_stopping, LR_plateau, WandBLogger]\n",
    "    )\n",
    "\n",
    "    raw_preds = model.predict([triplets, cand.loc[:,metadata_cols]], batch_size=config['batch_size'], verbose=1)\n",
    "    preds = np.rint(np.transpose(raw_preds))[0].astype(int)\n",
    "    labels = cand[\"label\"].to_numpy(dtype=int)\n",
    "\n",
    "    results = preds == labels\n",
    "    print(f\"Overall validation accuracy {100*np.sum(results) / len(results):.2f}%\")\n",
    "    "
   ]
  },
  {
   "cell_type": "code",
   "execution_count": 59,
   "metadata": {},
   "outputs": [],
   "source": [
    "# quick wrapper around the train function so it can be called nicely by a wandb sweep agent\n",
    "def sweep_train(config=None):\n",
    "    with wandb.init(config=config) as run:\n",
    "        train(run.config)"
   ]
  },
  {
   "cell_type": "markdown",
   "metadata": {},
   "source": [
    "Now, we'll start the grid search. No need to wait for it to finish before you can see what it is doing. You can just go to your sweep's overview page on wandb to see the progress of the grid search, and the best performing runs so far."
   ]
  },
  {
   "cell_type": "markdown",
   "metadata": {},
   "source": [
    "*Before running the next cell, you need to create a sweep on wandb.ai. You can do so by clicking on the \"Sweeps\" tab, and then on \"Create new sweep\". You can use this sweep config:\n",
    "```yaml\n",
    "method: bayes\n",
    "metric:\n",
    "  goal: minimize\n",
    "  name: batch/loss\n",
    "parameters:\n",
    "  LR_plateau_patience:\n",
    "    distribution: int_uniform\n",
    "    max: 40\n",
    "    min: 10\n",
    "  batch_size:\n",
    "    distribution: int_uniform\n",
    "    max: 64\n",
    "    min: 16\n",
    "  beta_1:\n",
    "    distribution: uniform\n",
    "    max: 1.8\n",
    "    min: 0.45\n",
    "  beta_2:\n",
    "    distribution: uniform\n",
    "    max: 1.998\n",
    "    min: 0.4995\n",
    "  dropout_1:\n",
    "    distribution: uniform\n",
    "    max: 0.4\n",
    "    min: 0.15\n",
    "  dropout_2:\n",
    "    distribution: uniform\n",
    "    max: 0.4\n",
    "    min: 0.15\n",
    "  dropout_3:\n",
    "    distribution: uniform\n",
    "    max: 0.4\n",
    "    min: 0.15\n",
    "  early_stopping_patience:\n",
    "    distribution: int_uniform\n",
    "    max: 15\n",
    "    min: 5\n",
    "  epochs:\n",
    "    distribution: int_uniform\n",
    "    max: 20\n",
    "    min: 5\n",
    "  learning_rate:\n",
    "    distribution: uniform\n",
    "    max: 0.002\n",
    "    min: 0.0005\n",
    "  loss:\n",
    "    distribution: categorical\n",
    "    values:\n",
    "      - binary_crossentropy\n",
    "  optimizer:\n",
    "    distribution: categorical\n",
    "    values:\n",
    "      - adam\n",
    "  random_seed:\n",
    "    distribution: categorical\n",
    "    values: \n",
    "     - 42\n",
    "  reduce_LR_factor:\n",
    "    distribution: uniform\n",
    "    max: 1\n",
    "    min: 0.25\n",
    "  reduce_LR_minLR:\n",
    "    distribution: uniform\n",
    "    max: 2e-06\n",
    "    min: 5e-07\n",
    "  train_data_version:\n",
    "    distribution: categorical\n",
    "    values:\n",
    "      - ZTFSS\n",
    "  image_size:\n",
    "    distribution: categorical\n",
    "    values:\n",
    "      - (63,63,3)\n",
    "  metadata_size:\n",
    "    distribution: categorical\n",
    "    values:\n",
    "      - (14,)\n",
    "program: train.py\n",
    "```\n",
    "\n",
    "and replace the sweep_id in the cell below with the one you get from wandb.ai.*"
   ]
  },
  {
   "cell_type": "code",
   "execution_count": 60,
   "metadata": {},
   "outputs": [
    {
     "name": "stderr",
     "output_type": "stream",
     "text": [
      "\u001b[34m\u001b[1mwandb\u001b[0m: \u001b[33mWARNING\u001b[0m Calling wandb.login() after wandb.init() has no effect.\n"
     ]
    },
    {
     "name": "stdout",
     "output_type": "stream",
     "text": [
      "VBox(children=(Label(value='0.003 MB of 0.003 MB uploaded\\r'), FloatProgress(value=1.0, max=1.0)))\n",
      "<IPython.core.display.HTML object>\n",
      "<IPython.core.display.HTML object>\n",
      "<IPython.core.display.HTML object>\n",
      "<IPython.core.display.HTML object>\n"
     ]
    },
    {
     "name": "stderr",
     "output_type": "stream",
     "text": [
      "\u001b[34m\u001b[1mwandb\u001b[0m: Agent Starting Run: swikfoqj with config:\n",
      "\u001b[34m\u001b[1mwandb\u001b[0m: \tLR_plateau_patience: 22\n",
      "\u001b[34m\u001b[1mwandb\u001b[0m: \tbatch_size: 51\n",
      "\u001b[34m\u001b[1mwandb\u001b[0m: \tbeta_1: 0.4501544060034156\n",
      "\u001b[34m\u001b[1mwandb\u001b[0m: \tbeta_2: 0.952545360088812\n",
      "\u001b[34m\u001b[1mwandb\u001b[0m: \tdropout_1: 0.18668897270427823\n",
      "\u001b[34m\u001b[1mwandb\u001b[0m: \tdropout_2: 0.17308464869219944\n",
      "\u001b[34m\u001b[1mwandb\u001b[0m: \tdropout_3: 0.19656505284441772\n",
      "\u001b[34m\u001b[1mwandb\u001b[0m: \tearly_stopping_patience: 8\n",
      "\u001b[34m\u001b[1mwandb\u001b[0m: \tepochs: 11\n",
      "\u001b[34m\u001b[1mwandb\u001b[0m: \timage_size: (63,63,3)\n",
      "\u001b[34m\u001b[1mwandb\u001b[0m: \tlearning_rate: 0.0011287917716049423\n",
      "\u001b[34m\u001b[1mwandb\u001b[0m: \tloss: binary_crossentropy\n",
      "\u001b[34m\u001b[1mwandb\u001b[0m: \tmetadata_size: (14,)\n",
      "\u001b[34m\u001b[1mwandb\u001b[0m: \toptimizer: adam\n",
      "\u001b[34m\u001b[1mwandb\u001b[0m: \trandom_seed: 42\n",
      "\u001b[34m\u001b[1mwandb\u001b[0m: \treduce_LR_factor: 0.7528506326338017\n",
      "\u001b[34m\u001b[1mwandb\u001b[0m: \treduce_LR_minLR: 1.1259572035506906e-06\n",
      "\u001b[34m\u001b[1mwandb\u001b[0m: \ttrain_data_version: ZTFSS\n"
     ]
    },
    {
     "data": {
      "text/html": [
       "Tracking run with wandb version 0.17.5"
      ],
      "text/plain": [
       "<IPython.core.display.HTML object>"
      ]
     },
     "metadata": {},
     "output_type": "display_data"
    },
    {
     "data": {
      "text/html": [
       "Run data is saved locally in <code>/home/exouser/Documents/ztf_summer_school_2024/lectures/01-ml/wandb/run-20240806_021351-swikfoqj</code>"
      ],
      "text/plain": [
       "<IPython.core.display.HTML object>"
      ]
     },
     "metadata": {},
     "output_type": "display_data"
    },
    {
     "data": {
      "text/html": [
       "Syncing run <strong><a href='https://wandb.ai/ravioli1369-indian-institute-of-technology-bombay/BTSbot/runs/swikfoqj' target=\"_blank\">major-sweep-1</a></strong> to <a href='https://wandb.ai/ravioli1369-indian-institute-of-technology-bombay/BTSbot' target=\"_blank\">Weights & Biases</a> (<a href='https://wandb.me/run' target=\"_blank\">docs</a>)<br/>Sweep page: <a href='https://wandb.ai/ravioli1369-indian-institute-of-technology-bombay/BTSbot/sweeps/kloha184' target=\"_blank\">https://wandb.ai/ravioli1369-indian-institute-of-technology-bombay/BTSbot/sweeps/kloha184</a>"
      ],
      "text/plain": [
       "<IPython.core.display.HTML object>"
      ]
     },
     "metadata": {},
     "output_type": "display_data"
    },
    {
     "data": {
      "text/html": [
       " View project at <a href='https://wandb.ai/ravioli1369-indian-institute-of-technology-bombay/BTSbot' target=\"_blank\">https://wandb.ai/ravioli1369-indian-institute-of-technology-bombay/BTSbot</a>"
      ],
      "text/plain": [
       "<IPython.core.display.HTML object>"
      ]
     },
     "metadata": {},
     "output_type": "display_data"
    },
    {
     "data": {
      "text/html": [
       " View sweep at <a href='https://wandb.ai/ravioli1369-indian-institute-of-technology-bombay/BTSbot/sweeps/kloha184' target=\"_blank\">https://wandb.ai/ravioli1369-indian-institute-of-technology-bombay/BTSbot/sweeps/kloha184</a>"
      ],
      "text/plain": [
       "<IPython.core.display.HTML object>"
      ]
     },
     "metadata": {},
     "output_type": "display_data"
    },
    {
     "data": {
      "text/html": [
       " View run at <a href='https://wandb.ai/ravioli1369-indian-institute-of-technology-bombay/BTSbot/runs/swikfoqj' target=\"_blank\">https://wandb.ai/ravioli1369-indian-institute-of-technology-bombay/BTSbot/runs/swikfoqj</a>"
      ],
      "text/plain": [
       "<IPython.core.display.HTML object>"
      ]
     },
     "metadata": {},
     "output_type": "display_data"
    },
    {
     "name": "stdout",
     "output_type": "stream",
     "text": [
      "Epoch 1/11\n",
      "130/130 [==============================] - 17s 119ms/step - loss: 0.7812 - accuracy: 0.6392 - val_loss: 0.6367 - val_accuracy: 0.6734 - lr: 0.0011\n",
      "Epoch 2/11\n",
      "130/130 [==============================] - 17s 129ms/step - loss: 0.5930 - accuracy: 0.6612 - val_loss: 0.6827 - val_accuracy: 0.6799 - lr: 0.0011\n",
      "Epoch 3/11\n",
      "130/130 [==============================] - 16s 122ms/step - loss: 0.5631 - accuracy: 0.7116 - val_loss: 0.6834 - val_accuracy: 0.6234 - lr: 0.0011\n",
      "Epoch 4/11\n",
      "130/130 [==============================] - 17s 128ms/step - loss: 0.5613 - accuracy: 0.7366 - val_loss: 0.6633 - val_accuracy: 0.5664 - lr: 0.0011\n",
      "Epoch 5/11\n",
      "130/130 [==============================] - 17s 130ms/step - loss: 0.5508 - accuracy: 0.7486 - val_loss: 0.6756 - val_accuracy: 0.5850 - lr: 0.0011\n",
      "Epoch 6/11\n",
      "130/130 [==============================] - 17s 130ms/step - loss: 0.5457 - accuracy: 0.7461 - val_loss: 0.7057 - val_accuracy: 0.6072 - lr: 0.0011\n",
      "Epoch 7/11\n",
      "130/130 [==============================] - 17s 129ms/step - loss: 0.5483 - accuracy: 0.7444 - val_loss: 0.6881 - val_accuracy: 0.5729 - lr: 0.0011\n",
      "Epoch 8/11\n",
      "130/130 [==============================] - 16s 124ms/step - loss: 0.5433 - accuracy: 0.7517 - val_loss: 0.6751 - val_accuracy: 0.5800 - lr: 0.0011\n",
      "Epoch 9/11\n",
      "130/130 [==============================] - 16s 124ms/step - loss: 0.5337 - accuracy: 0.7608 - val_loss: 0.6862 - val_accuracy: 0.5496 - lr: 0.0011\n",
      "Epoch 9: early stopping\n",
      "163/163 [==============================] - 2s 11ms/step\n",
      "Overall validation accuracy 76.23%\n"
     ]
    },
    {
     "data": {
      "application/vnd.jupyter.widget-view+json": {
       "model_id": "98fa535709d942c2ad5352abd351b01c",
       "version_major": 2,
       "version_minor": 0
      },
      "text/plain": [
       "VBox(children=(Label(value='0.016 MB of 0.016 MB uploaded\\r'), FloatProgress(value=1.0, max=1.0)))"
      ]
     },
     "metadata": {},
     "output_type": "display_data"
    },
    {
     "data": {
      "text/html": [
       "<style>\n",
       "    table.wandb td:nth-child(1) { padding: 0 10px; text-align: left ; width: auto;} td:nth-child(2) {text-align: left ; width: 100%}\n",
       "    .wandb-row { display: flex; flex-direction: row; flex-wrap: wrap; justify-content: flex-start; width: 100% }\n",
       "    .wandb-col { display: flex; flex-direction: column; flex-basis: 100%; flex: 1; padding: 10px; }\n",
       "    </style>\n",
       "<div class=\"wandb-row\"><div class=\"wandb-col\"><h3>Run history:</h3><br/><table class=\"wandb\"><tr><td>batch/accuracy</td><td>▁▄▅▅▅▆▆▆▆▆▆▆▇▇▇▇▇▇▇▇██▇▇▇▇▇█▇███████████</td></tr><tr><td>batch/batch_step</td><td>▁▁▁▁▂▂▂▂▂▃▃▃▃▃▃▄▄▄▄▄▅▅▅▅▅▅▆▆▆▆▆▇▇▇▇▇▇███</td></tr><tr><td>batch/learning_rate</td><td>▁▁▁▁▁▁▁▁▁▁▁▁▁▁▁▁▁▁▁▁▁▁▁▁▁▁▁▁▁▁▁▁▁▁▁▁▁▁▁▁</td></tr><tr><td>batch/loss</td><td>█▄▃▂▂▁▁▁▁▁▁▁▁▁▁▁▁▁▁▁▁▁▁▁▁▁▁▁▁▁▁▁▁▁▁▁▁▁▁▁</td></tr><tr><td>epoch/accuracy</td><td>▁▂▅▇▇▇▇▇█</td></tr><tr><td>epoch/epoch</td><td>▁▂▃▄▅▅▆▇█</td></tr><tr><td>epoch/learning_rate</td><td>▁▁▁▁▁▁▁▁▁</td></tr><tr><td>epoch/loss</td><td>█▃▂▂▁▁▁▁▁</td></tr><tr><td>epoch/lr</td><td>▁▁▁▁▁▁▁▁▁</td></tr><tr><td>epoch/val_accuracy</td><td>██▅▂▃▄▂▃▁</td></tr><tr><td>epoch/val_loss</td><td>▁▆▆▄▅█▆▅▆</td></tr></table><br/></div><div class=\"wandb-col\"><h3>Run summary:</h3><br/><table class=\"wandb\"><tr><td>batch/accuracy</td><td>0.7616</td></tr><tr><td>batch/batch_step</td><td>1165</td></tr><tr><td>batch/learning_rate</td><td>0.00113</td></tr><tr><td>batch/loss</td><td>0.53242</td></tr><tr><td>epoch/accuracy</td><td>0.76079</td></tr><tr><td>epoch/epoch</td><td>8</td></tr><tr><td>epoch/learning_rate</td><td>0.00113</td></tr><tr><td>epoch/loss</td><td>0.53374</td></tr><tr><td>epoch/lr</td><td>0.00113</td></tr><tr><td>epoch/val_accuracy</td><td>0.54963</td></tr><tr><td>epoch/val_loss</td><td>0.68623</td></tr></table><br/></div></div>"
      ],
      "text/plain": [
       "<IPython.core.display.HTML object>"
      ]
     },
     "metadata": {},
     "output_type": "display_data"
    },
    {
     "data": {
      "text/html": [
       " View run <strong style=\"color:#cdcd00\">major-sweep-1</strong> at: <a href='https://wandb.ai/ravioli1369-indian-institute-of-technology-bombay/BTSbot/runs/swikfoqj' target=\"_blank\">https://wandb.ai/ravioli1369-indian-institute-of-technology-bombay/BTSbot/runs/swikfoqj</a><br/> View project at: <a href='https://wandb.ai/ravioli1369-indian-institute-of-technology-bombay/BTSbot' target=\"_blank\">https://wandb.ai/ravioli1369-indian-institute-of-technology-bombay/BTSbot</a><br/>Synced 6 W&B file(s), 0 media file(s), 0 artifact file(s) and 0 other file(s)"
      ],
      "text/plain": [
       "<IPython.core.display.HTML object>"
      ]
     },
     "metadata": {},
     "output_type": "display_data"
    },
    {
     "data": {
      "text/html": [
       "Find logs at: <code>./wandb/run-20240806_021351-swikfoqj/logs</code>"
      ],
      "text/plain": [
       "<IPython.core.display.HTML object>"
      ]
     },
     "metadata": {},
     "output_type": "display_data"
    },
    {
     "data": {
      "text/html": [
       "The new W&B backend becomes opt-out in version 0.18.0; try it out with `wandb.require(\"core\")`! See https://wandb.me/wandb-core for more information."
      ],
      "text/plain": [
       "<IPython.core.display.HTML object>"
      ]
     },
     "metadata": {},
     "output_type": "display_data"
    },
    {
     "name": "stderr",
     "output_type": "stream",
     "text": [
      "\u001b[34m\u001b[1mwandb\u001b[0m: Agent Starting Run: j4xb3ys2 with config:\n",
      "\u001b[34m\u001b[1mwandb\u001b[0m: \tLR_plateau_patience: 27\n",
      "\u001b[34m\u001b[1mwandb\u001b[0m: \tbatch_size: 42\n",
      "\u001b[34m\u001b[1mwandb\u001b[0m: \tbeta_1: 1.6784383805656269\n",
      "\u001b[34m\u001b[1mwandb\u001b[0m: \tbeta_2: 0.7112540659462451\n",
      "\u001b[34m\u001b[1mwandb\u001b[0m: \tdropout_1: 0.15610525392483904\n",
      "\u001b[34m\u001b[1mwandb\u001b[0m: \tdropout_2: 0.256850833761773\n",
      "\u001b[34m\u001b[1mwandb\u001b[0m: \tdropout_3: 0.2522712610499601\n",
      "\u001b[34m\u001b[1mwandb\u001b[0m: \tearly_stopping_patience: 14\n",
      "\u001b[34m\u001b[1mwandb\u001b[0m: \tepochs: 8\n",
      "\u001b[34m\u001b[1mwandb\u001b[0m: \timage_size: (63,63,3)\n",
      "\u001b[34m\u001b[1mwandb\u001b[0m: \tlearning_rate: 0.0018000962289617384\n",
      "\u001b[34m\u001b[1mwandb\u001b[0m: \tloss: binary_crossentropy\n",
      "\u001b[34m\u001b[1mwandb\u001b[0m: \tmetadata_size: (14,)\n",
      "\u001b[34m\u001b[1mwandb\u001b[0m: \toptimizer: adam\n",
      "\u001b[34m\u001b[1mwandb\u001b[0m: \trandom_seed: 42\n",
      "\u001b[34m\u001b[1mwandb\u001b[0m: \treduce_LR_factor: 0.2707140369873319\n",
      "\u001b[34m\u001b[1mwandb\u001b[0m: \treduce_LR_minLR: 1.5199584007731087e-06\n",
      "\u001b[34m\u001b[1mwandb\u001b[0m: \ttrain_data_version: ZTFSS\n"
     ]
    },
    {
     "data": {
      "text/html": [
       "Tracking run with wandb version 0.17.5"
      ],
      "text/plain": [
       "<IPython.core.display.HTML object>"
      ]
     },
     "metadata": {},
     "output_type": "display_data"
    },
    {
     "data": {
      "text/html": [
       "Run data is saved locally in <code>/home/exouser/Documents/ztf_summer_school_2024/lectures/01-ml/wandb/run-20240806_021637-j4xb3ys2</code>"
      ],
      "text/plain": [
       "<IPython.core.display.HTML object>"
      ]
     },
     "metadata": {},
     "output_type": "display_data"
    },
    {
     "data": {
      "text/html": [
       "Syncing run <strong><a href='https://wandb.ai/ravioli1369-indian-institute-of-technology-bombay/BTSbot/runs/j4xb3ys2' target=\"_blank\">snowy-sweep-2</a></strong> to <a href='https://wandb.ai/ravioli1369-indian-institute-of-technology-bombay/BTSbot' target=\"_blank\">Weights & Biases</a> (<a href='https://wandb.me/run' target=\"_blank\">docs</a>)<br/>Sweep page: <a href='https://wandb.ai/ravioli1369-indian-institute-of-technology-bombay/BTSbot/sweeps/kloha184' target=\"_blank\">https://wandb.ai/ravioli1369-indian-institute-of-technology-bombay/BTSbot/sweeps/kloha184</a>"
      ],
      "text/plain": [
       "<IPython.core.display.HTML object>"
      ]
     },
     "metadata": {},
     "output_type": "display_data"
    },
    {
     "data": {
      "text/html": [
       " View project at <a href='https://wandb.ai/ravioli1369-indian-institute-of-technology-bombay/BTSbot' target=\"_blank\">https://wandb.ai/ravioli1369-indian-institute-of-technology-bombay/BTSbot</a>"
      ],
      "text/plain": [
       "<IPython.core.display.HTML object>"
      ]
     },
     "metadata": {},
     "output_type": "display_data"
    },
    {
     "data": {
      "text/html": [
       " View sweep at <a href='https://wandb.ai/ravioli1369-indian-institute-of-technology-bombay/BTSbot/sweeps/kloha184' target=\"_blank\">https://wandb.ai/ravioli1369-indian-institute-of-technology-bombay/BTSbot/sweeps/kloha184</a>"
      ],
      "text/plain": [
       "<IPython.core.display.HTML object>"
      ]
     },
     "metadata": {},
     "output_type": "display_data"
    },
    {
     "data": {
      "text/html": [
       " View run at <a href='https://wandb.ai/ravioli1369-indian-institute-of-technology-bombay/BTSbot/runs/j4xb3ys2' target=\"_blank\">https://wandb.ai/ravioli1369-indian-institute-of-technology-bombay/BTSbot/runs/j4xb3ys2</a>"
      ],
      "text/plain": [
       "<IPython.core.display.HTML object>"
      ]
     },
     "metadata": {},
     "output_type": "display_data"
    },
    {
     "name": "stdout",
     "output_type": "stream",
     "text": [
      "Epoch 1/8\n",
      "157/157 [==============================] - 16s 100ms/step - loss: 7.6171 - accuracy: 0.6556 - val_loss: 86251224.0000 - val_accuracy: 0.6740 - lr: 0.0018\n",
      "Epoch 2/8\n",
      "157/157 [==============================] - 16s 103ms/step - loss: nan - accuracy: 0.6610 - val_loss: nan - val_accuracy: 0.6756 - lr: 0.0018\n",
      "Epoch 3/8\n",
      "157/157 [==============================] - 16s 105ms/step - loss: nan - accuracy: 0.6599 - val_loss: nan - val_accuracy: 0.6774 - lr: 0.0018\n",
      "Epoch 4/8\n",
      "157/157 [==============================] - 16s 105ms/step - loss: nan - accuracy: 0.6651 - val_loss: nan - val_accuracy: 0.6743 - lr: 0.0018\n",
      "Epoch 5/8\n",
      "157/157 [==============================] - 17s 105ms/step - loss: nan - accuracy: 0.6655 - val_loss: nan - val_accuracy: 0.6656 - lr: 0.0018\n",
      "Epoch 6/8\n",
      "157/157 [==============================] - 16s 104ms/step - loss: nan - accuracy: 0.6622 - val_loss: nan - val_accuracy: 0.6795 - lr: 0.0018\n",
      "Epoch 7/8\n",
      "157/157 [==============================] - 17s 106ms/step - loss: nan - accuracy: 0.6651 - val_loss: nan - val_accuracy: 0.6740 - lr: 0.0018\n",
      "Epoch 8/8\n",
      "157/157 [==============================] - 17s 108ms/step - loss: nan - accuracy: 0.6587 - val_loss: nan - val_accuracy: 0.6774 - lr: 0.0018\n",
      "198/198 [==============================] - 2s 11ms/step\n",
      "Overall validation accuracy 0.00%\n"
     ]
    },
    {
     "name": "stderr",
     "output_type": "stream",
     "text": [
      "/tmp/ipykernel_1537983/1319790779.py:115: RuntimeWarning: invalid value encountered in cast\n",
      "  preds = np.rint(np.transpose(raw_preds))[0].astype(int)\n"
     ]
    },
    {
     "data": {
      "application/vnd.jupyter.widget-view+json": {
       "model_id": "57c903b3a731451f83076f05659dabb4",
       "version_major": 2,
       "version_minor": 0
      },
      "text/plain": [
       "VBox(children=(Label(value='0.003 MB of 0.003 MB uploaded\\r'), FloatProgress(value=1.0, max=1.0)))"
      ]
     },
     "metadata": {},
     "output_type": "display_data"
    },
    {
     "data": {
      "text/html": [
       "<style>\n",
       "    table.wandb td:nth-child(1) { padding: 0 10px; text-align: left ; width: auto;} td:nth-child(2) {text-align: left ; width: 100%}\n",
       "    .wandb-row { display: flex; flex-direction: row; flex-wrap: wrap; justify-content: flex-start; width: 100% }\n",
       "    .wandb-col { display: flex; flex-direction: column; flex-basis: 100%; flex: 1; padding: 10px; }\n",
       "    </style>\n",
       "<div class=\"wandb-row\"><div class=\"wandb-col\"><h3>Run history:</h3><br/><table class=\"wandb\"><tr><td>batch/accuracy</td><td>▁▄▅▆▆▇▆▆▆▆▆▇▇▆▆▇▇▇▇▇▅▆▇▇▇▆▆▆▆▆█▇▇▆▆▆▇▇▆▆</td></tr><tr><td>batch/batch_step</td><td>▁▁▁▁▂▂▂▂▂▃▃▃▃▃▃▄▄▄▄▄▅▅▅▅▅▅▆▆▆▆▆▇▇▇▇▇▇███</td></tr><tr><td>batch/learning_rate</td><td>▁▁▁▁▁▁▁▁▁▁▁▁▁▁▁▁▁▁▁▁▁▁▁▁▁▁▁▁▁▁▁▁▁▁▁▁▁▁▁▁</td></tr><tr><td>batch/loss</td><td>▁▁█▇█                                   </td></tr><tr><td>epoch/accuracy</td><td>▁▅▄██▆█▃</td></tr><tr><td>epoch/epoch</td><td>▁▂▃▄▅▆▇█</td></tr><tr><td>epoch/learning_rate</td><td>▁▁▁▁▁▁▁▁</td></tr><tr><td>epoch/loss</td><td>▁       </td></tr><tr><td>epoch/lr</td><td>▁▁▁▁▁▁▁▁</td></tr><tr><td>epoch/val_accuracy</td><td>▅▆▇▅▁█▅▇</td></tr><tr><td>epoch/val_loss</td><td>▁       </td></tr></table><br/></div><div class=\"wandb-col\"><h3>Run summary:</h3><br/><table class=\"wandb\"><tr><td>batch/accuracy</td><td>0.6591</td></tr><tr><td>batch/batch_step</td><td>1275</td></tr><tr><td>batch/learning_rate</td><td>0.0018</td></tr><tr><td>batch/loss</td><td>nan</td></tr><tr><td>epoch/accuracy</td><td>0.6587</td></tr><tr><td>epoch/epoch</td><td>7</td></tr><tr><td>epoch/learning_rate</td><td>0.0018</td></tr><tr><td>epoch/loss</td><td>nan</td></tr><tr><td>epoch/lr</td><td>0.0018</td></tr><tr><td>epoch/val_accuracy</td><td>0.67744</td></tr><tr><td>epoch/val_loss</td><td>nan</td></tr></table><br/></div></div>"
      ],
      "text/plain": [
       "<IPython.core.display.HTML object>"
      ]
     },
     "metadata": {},
     "output_type": "display_data"
    },
    {
     "data": {
      "text/html": [
       " View run <strong style=\"color:#cdcd00\">snowy-sweep-2</strong> at: <a href='https://wandb.ai/ravioli1369-indian-institute-of-technology-bombay/BTSbot/runs/j4xb3ys2' target=\"_blank\">https://wandb.ai/ravioli1369-indian-institute-of-technology-bombay/BTSbot/runs/j4xb3ys2</a><br/> View project at: <a href='https://wandb.ai/ravioli1369-indian-institute-of-technology-bombay/BTSbot' target=\"_blank\">https://wandb.ai/ravioli1369-indian-institute-of-technology-bombay/BTSbot</a><br/>Synced 6 W&B file(s), 0 media file(s), 0 artifact file(s) and 0 other file(s)"
      ],
      "text/plain": [
       "<IPython.core.display.HTML object>"
      ]
     },
     "metadata": {},
     "output_type": "display_data"
    },
    {
     "data": {
      "text/html": [
       "Find logs at: <code>./wandb/run-20240806_021637-j4xb3ys2/logs</code>"
      ],
      "text/plain": [
       "<IPython.core.display.HTML object>"
      ]
     },
     "metadata": {},
     "output_type": "display_data"
    },
    {
     "data": {
      "text/html": [
       "The new W&B backend becomes opt-out in version 0.18.0; try it out with `wandb.require(\"core\")`! See https://wandb.me/wandb-core for more information."
      ],
      "text/plain": [
       "<IPython.core.display.HTML object>"
      ]
     },
     "metadata": {},
     "output_type": "display_data"
    },
    {
     "name": "stderr",
     "output_type": "stream",
     "text": [
      "\u001b[34m\u001b[1mwandb\u001b[0m: Agent Starting Run: 8dm1s3r9 with config:\n",
      "\u001b[34m\u001b[1mwandb\u001b[0m: \tLR_plateau_patience: 20\n",
      "\u001b[34m\u001b[1mwandb\u001b[0m: \tbatch_size: 52\n",
      "\u001b[34m\u001b[1mwandb\u001b[0m: \tbeta_1: 1.2371917887047983\n",
      "\u001b[34m\u001b[1mwandb\u001b[0m: \tbeta_2: 1.960031417690815\n",
      "\u001b[34m\u001b[1mwandb\u001b[0m: \tdropout_1: 0.30760806375600436\n",
      "\u001b[34m\u001b[1mwandb\u001b[0m: \tdropout_2: 0.2568406911977478\n",
      "\u001b[34m\u001b[1mwandb\u001b[0m: \tdropout_3: 0.23928985193209937\n",
      "\u001b[34m\u001b[1mwandb\u001b[0m: \tearly_stopping_patience: 14\n",
      "\u001b[34m\u001b[1mwandb\u001b[0m: \tepochs: 18\n",
      "\u001b[34m\u001b[1mwandb\u001b[0m: \timage_size: (63,63,3)\n",
      "\u001b[34m\u001b[1mwandb\u001b[0m: \tlearning_rate: 0.0017917057312573316\n",
      "\u001b[34m\u001b[1mwandb\u001b[0m: \tloss: binary_crossentropy\n",
      "\u001b[34m\u001b[1mwandb\u001b[0m: \tmetadata_size: (14,)\n",
      "\u001b[34m\u001b[1mwandb\u001b[0m: \toptimizer: adam\n",
      "\u001b[34m\u001b[1mwandb\u001b[0m: \trandom_seed: 42\n",
      "\u001b[34m\u001b[1mwandb\u001b[0m: \treduce_LR_factor: 0.6015162925429617\n",
      "\u001b[34m\u001b[1mwandb\u001b[0m: \treduce_LR_minLR: 6.051397634896533e-07\n",
      "\u001b[34m\u001b[1mwandb\u001b[0m: \ttrain_data_version: ZTFSS\n"
     ]
    },
    {
     "data": {
      "text/html": [
       "Tracking run with wandb version 0.17.5"
      ],
      "text/plain": [
       "<IPython.core.display.HTML object>"
      ]
     },
     "metadata": {},
     "output_type": "display_data"
    },
    {
     "data": {
      "text/html": [
       "Run data is saved locally in <code>/home/exouser/Documents/ztf_summer_school_2024/lectures/01-ml/wandb/run-20240806_021904-8dm1s3r9</code>"
      ],
      "text/plain": [
       "<IPython.core.display.HTML object>"
      ]
     },
     "metadata": {},
     "output_type": "display_data"
    },
    {
     "data": {
      "text/html": [
       "Syncing run <strong><a href='https://wandb.ai/ravioli1369-indian-institute-of-technology-bombay/BTSbot/runs/8dm1s3r9' target=\"_blank\">gallant-sweep-3</a></strong> to <a href='https://wandb.ai/ravioli1369-indian-institute-of-technology-bombay/BTSbot' target=\"_blank\">Weights & Biases</a> (<a href='https://wandb.me/run' target=\"_blank\">docs</a>)<br/>Sweep page: <a href='https://wandb.ai/ravioli1369-indian-institute-of-technology-bombay/BTSbot/sweeps/kloha184' target=\"_blank\">https://wandb.ai/ravioli1369-indian-institute-of-technology-bombay/BTSbot/sweeps/kloha184</a>"
      ],
      "text/plain": [
       "<IPython.core.display.HTML object>"
      ]
     },
     "metadata": {},
     "output_type": "display_data"
    },
    {
     "data": {
      "text/html": [
       " View project at <a href='https://wandb.ai/ravioli1369-indian-institute-of-technology-bombay/BTSbot' target=\"_blank\">https://wandb.ai/ravioli1369-indian-institute-of-technology-bombay/BTSbot</a>"
      ],
      "text/plain": [
       "<IPython.core.display.HTML object>"
      ]
     },
     "metadata": {},
     "output_type": "display_data"
    },
    {
     "data": {
      "text/html": [
       " View sweep at <a href='https://wandb.ai/ravioli1369-indian-institute-of-technology-bombay/BTSbot/sweeps/kloha184' target=\"_blank\">https://wandb.ai/ravioli1369-indian-institute-of-technology-bombay/BTSbot/sweeps/kloha184</a>"
      ],
      "text/plain": [
       "<IPython.core.display.HTML object>"
      ]
     },
     "metadata": {},
     "output_type": "display_data"
    },
    {
     "data": {
      "text/html": [
       " View run at <a href='https://wandb.ai/ravioli1369-indian-institute-of-technology-bombay/BTSbot/runs/8dm1s3r9' target=\"_blank\">https://wandb.ai/ravioli1369-indian-institute-of-technology-bombay/BTSbot/runs/8dm1s3r9</a>"
      ],
      "text/plain": [
       "<IPython.core.display.HTML object>"
      ]
     },
     "metadata": {},
     "output_type": "display_data"
    },
    {
     "name": "stdout",
     "output_type": "stream",
     "text": [
      "Epoch 1/18\n",
      "127/127 [==============================] - 16s 121ms/step - loss: nan - accuracy: 0.6631 - val_loss: nan - val_accuracy: 0.6731 - lr: 0.0018\n",
      "Epoch 2/18\n",
      "127/127 [==============================] - 16s 122ms/step - loss: nan - accuracy: 0.6604 - val_loss: nan - val_accuracy: 0.6769 - lr: 0.0018\n",
      "Epoch 3/18\n",
      "127/127 [==============================] - 16s 126ms/step - loss: nan - accuracy: 0.6605 - val_loss: nan - val_accuracy: 0.6750 - lr: 0.0018\n",
      "Epoch 4/18\n",
      "127/127 [==============================] - 16s 129ms/step - loss: nan - accuracy: 0.6640 - val_loss: nan - val_accuracy: 0.6769 - lr: 0.0018\n",
      "Epoch 5/18\n",
      "127/127 [==============================] - 16s 127ms/step - loss: nan - accuracy: 0.6663 - val_loss: nan - val_accuracy: 0.6619 - lr: 0.0018\n",
      "Epoch 6/18\n",
      "127/127 [==============================] - 16s 130ms/step - loss: nan - accuracy: 0.6627 - val_loss: nan - val_accuracy: 0.6805 - lr: 0.0018\n",
      "Epoch 7/18\n",
      "127/127 [==============================] - 17s 130ms/step - loss: nan - accuracy: 0.6643 - val_loss: nan - val_accuracy: 0.6743 - lr: 0.0018\n",
      "Epoch 8/18\n",
      "127/127 [==============================] - 16s 126ms/step - loss: nan - accuracy: 0.6582 - val_loss: nan - val_accuracy: 0.6756 - lr: 0.0018\n",
      "Epoch 9/18\n",
      "127/127 [==============================] - 16s 129ms/step - loss: nan - accuracy: 0.6681 - val_loss: nan - val_accuracy: 0.6744 - lr: 0.0018\n",
      "Epoch 10/18\n",
      "127/127 [==============================] - 17s 131ms/step - loss: nan - accuracy: 0.6652 - val_loss: nan - val_accuracy: 0.6769 - lr: 0.0018\n",
      "Epoch 11/18\n",
      "127/127 [==============================] - 16s 123ms/step - loss: nan - accuracy: 0.6613 - val_loss: nan - val_accuracy: 0.6625 - lr: 0.0018\n",
      "Epoch 12/18\n",
      "127/127 [==============================] - 16s 128ms/step - loss: nan - accuracy: 0.6634 - val_loss: nan - val_accuracy: 0.6781 - lr: 0.0018\n",
      "Epoch 13/18\n",
      "127/127 [==============================] - 16s 124ms/step - loss: nan - accuracy: 0.6596 - val_loss: nan - val_accuracy: 0.6836 - lr: 0.0018\n",
      "Epoch 14/18\n",
      "127/127 [==============================] - 16s 128ms/step - loss: nan - accuracy: 0.6666 - val_loss: nan - val_accuracy: 0.6800 - lr: 0.0018\n",
      "Epoch 14: early stopping\n",
      "160/160 [==============================] - 2s 13ms/step\n",
      "Overall validation accuracy 0.00%\n"
     ]
    },
    {
     "name": "stderr",
     "output_type": "stream",
     "text": [
      "/tmp/ipykernel_1537983/1319790779.py:115: RuntimeWarning: invalid value encountered in cast\n",
      "  preds = np.rint(np.transpose(raw_preds))[0].astype(int)\n"
     ]
    },
    {
     "data": {
      "application/vnd.jupyter.widget-view+json": {
       "model_id": "7f774f828a994309810afdc354b081d9",
       "version_major": 2,
       "version_minor": 0
      },
      "text/plain": [
       "VBox(children=(Label(value='0.003 MB of 0.003 MB uploaded\\r'), FloatProgress(value=1.0, max=1.0)))"
      ]
     },
     "metadata": {},
     "output_type": "display_data"
    },
    {
     "data": {
      "text/html": [
       "<style>\n",
       "    table.wandb td:nth-child(1) { padding: 0 10px; text-align: left ; width: auto;} td:nth-child(2) {text-align: left ; width: 100%}\n",
       "    .wandb-row { display: flex; flex-direction: row; flex-wrap: wrap; justify-content: flex-start; width: 100% }\n",
       "    .wandb-col { display: flex; flex-direction: column; flex-basis: 100%; flex: 1; padding: 10px; }\n",
       "    </style>\n",
       "<div class=\"wandb-row\"><div class=\"wandb-col\"><h3>Run history:</h3><br/><table class=\"wandb\"><tr><td>batch/accuracy</td><td>▁▃▅▂▄▅▇▅▅▇▆▆▅▆▅▄▅█▅▅▆▅▅▇▆▆▃▅▆▄▅▆▆▅▆▆▅▇▆▆</td></tr><tr><td>batch/batch_step</td><td>▁▁▁▁▂▂▂▂▂▃▃▃▃▃▄▄▄▄▄▄▅▅▅▅▅▅▆▆▆▆▆▇▇▇▇▇████</td></tr><tr><td>batch/learning_rate</td><td>▁▁▁▁▁▁▁▁▁▁▁▁▁▁▁▁▁▁▁▁▁▁▁▁▁▁▁▁▁▁▁▁▁▁▁▁▁▁▁▁</td></tr><tr><td>epoch/accuracy</td><td>▄▃▃▅▇▄▅▁█▆▃▅▂▇</td></tr><tr><td>epoch/epoch</td><td>▁▂▂▃▃▄▄▅▅▆▆▇▇█</td></tr><tr><td>epoch/learning_rate</td><td>▁▁▁▁▁▁▁▁▁▁▁▁▁▁</td></tr><tr><td>epoch/lr</td><td>▁▁▁▁▁▁▁▁▁▁▁▁▁▁</td></tr><tr><td>epoch/val_accuracy</td><td>▅▆▅▆▁▇▅▅▅▆▁▆█▇</td></tr></table><br/></div><div class=\"wandb-col\"><h3>Run summary:</h3><br/><table class=\"wandb\"><tr><td>batch/accuracy</td><td>0.66534</td></tr><tr><td>batch/batch_step</td><td>1815</td></tr><tr><td>batch/learning_rate</td><td>0.00179</td></tr><tr><td>batch/loss</td><td>nan</td></tr><tr><td>epoch/accuracy</td><td>0.66662</td></tr><tr><td>epoch/epoch</td><td>13</td></tr><tr><td>epoch/learning_rate</td><td>0.00179</td></tr><tr><td>epoch/loss</td><td>nan</td></tr><tr><td>epoch/lr</td><td>0.00179</td></tr><tr><td>epoch/val_accuracy</td><td>0.67998</td></tr><tr><td>epoch/val_loss</td><td>nan</td></tr></table><br/></div></div>"
      ],
      "text/plain": [
       "<IPython.core.display.HTML object>"
      ]
     },
     "metadata": {},
     "output_type": "display_data"
    },
    {
     "data": {
      "text/html": [
       " View run <strong style=\"color:#cdcd00\">gallant-sweep-3</strong> at: <a href='https://wandb.ai/ravioli1369-indian-institute-of-technology-bombay/BTSbot/runs/8dm1s3r9' target=\"_blank\">https://wandb.ai/ravioli1369-indian-institute-of-technology-bombay/BTSbot/runs/8dm1s3r9</a><br/> View project at: <a href='https://wandb.ai/ravioli1369-indian-institute-of-technology-bombay/BTSbot' target=\"_blank\">https://wandb.ai/ravioli1369-indian-institute-of-technology-bombay/BTSbot</a><br/>Synced 6 W&B file(s), 0 media file(s), 0 artifact file(s) and 0 other file(s)"
      ],
      "text/plain": [
       "<IPython.core.display.HTML object>"
      ]
     },
     "metadata": {},
     "output_type": "display_data"
    },
    {
     "data": {
      "text/html": [
       "Find logs at: <code>./wandb/run-20240806_021904-8dm1s3r9/logs</code>"
      ],
      "text/plain": [
       "<IPython.core.display.HTML object>"
      ]
     },
     "metadata": {},
     "output_type": "display_data"
    },
    {
     "data": {
      "text/html": [
       "The new W&B backend becomes opt-out in version 0.18.0; try it out with `wandb.require(\"core\")`! See https://wandb.me/wandb-core for more information."
      ],
      "text/plain": [
       "<IPython.core.display.HTML object>"
      ]
     },
     "metadata": {},
     "output_type": "display_data"
    },
    {
     "name": "stderr",
     "output_type": "stream",
     "text": [
      "\u001b[34m\u001b[1mwandb\u001b[0m: Agent Starting Run: le7du7wg with config:\n",
      "\u001b[34m\u001b[1mwandb\u001b[0m: \tLR_plateau_patience: 36\n",
      "\u001b[34m\u001b[1mwandb\u001b[0m: \tbatch_size: 52\n",
      "\u001b[34m\u001b[1mwandb\u001b[0m: \tbeta_1: 1.626136534753137\n",
      "\u001b[34m\u001b[1mwandb\u001b[0m: \tbeta_2: 1.4794368079479423\n",
      "\u001b[34m\u001b[1mwandb\u001b[0m: \tdropout_1: 0.3871166367676613\n",
      "\u001b[34m\u001b[1mwandb\u001b[0m: \tdropout_2: 0.16383963071324567\n",
      "\u001b[34m\u001b[1mwandb\u001b[0m: \tdropout_3: 0.23364709984546375\n",
      "\u001b[34m\u001b[1mwandb\u001b[0m: \tearly_stopping_patience: 7\n",
      "\u001b[34m\u001b[1mwandb\u001b[0m: \tepochs: 15\n",
      "\u001b[34m\u001b[1mwandb\u001b[0m: \timage_size: (63,63,3)\n",
      "\u001b[34m\u001b[1mwandb\u001b[0m: \tlearning_rate: 0.0017949377384343765\n",
      "\u001b[34m\u001b[1mwandb\u001b[0m: \tloss: binary_crossentropy\n",
      "\u001b[34m\u001b[1mwandb\u001b[0m: \tmetadata_size: (14,)\n",
      "\u001b[34m\u001b[1mwandb\u001b[0m: \toptimizer: adam\n",
      "\u001b[34m\u001b[1mwandb\u001b[0m: \trandom_seed: 42\n",
      "\u001b[34m\u001b[1mwandb\u001b[0m: \treduce_LR_factor: 0.4409248149485368\n",
      "\u001b[34m\u001b[1mwandb\u001b[0m: \treduce_LR_minLR: 1.9446265243102195e-06\n",
      "\u001b[34m\u001b[1mwandb\u001b[0m: \ttrain_data_version: ZTFSS\n"
     ]
    },
    {
     "data": {
      "application/vnd.jupyter.widget-view+json": {
       "model_id": "f8c1375c2c5e4f16b614aaebf2e900f2",
       "version_major": 2,
       "version_minor": 0
      },
      "text/plain": [
       "VBox(children=(Label(value='Waiting for wandb.init()...\\r'), FloatProgress(value=0.011112624789691633, max=1.0…"
      ]
     },
     "metadata": {},
     "output_type": "display_data"
    },
    {
     "data": {
      "text/html": [
       "Tracking run with wandb version 0.17.5"
      ],
      "text/plain": [
       "<IPython.core.display.HTML object>"
      ]
     },
     "metadata": {},
     "output_type": "display_data"
    },
    {
     "data": {
      "text/html": [
       "Run data is saved locally in <code>/home/exouser/Documents/ztf_summer_school_2024/lectures/01-ml/wandb/run-20240806_022306-le7du7wg</code>"
      ],
      "text/plain": [
       "<IPython.core.display.HTML object>"
      ]
     },
     "metadata": {},
     "output_type": "display_data"
    },
    {
     "data": {
      "text/html": [
       "Syncing run <strong><a href='https://wandb.ai/ravioli1369-indian-institute-of-technology-bombay/BTSbot/runs/le7du7wg' target=\"_blank\">leafy-sweep-4</a></strong> to <a href='https://wandb.ai/ravioli1369-indian-institute-of-technology-bombay/BTSbot' target=\"_blank\">Weights & Biases</a> (<a href='https://wandb.me/run' target=\"_blank\">docs</a>)<br/>Sweep page: <a href='https://wandb.ai/ravioli1369-indian-institute-of-technology-bombay/BTSbot/sweeps/kloha184' target=\"_blank\">https://wandb.ai/ravioli1369-indian-institute-of-technology-bombay/BTSbot/sweeps/kloha184</a>"
      ],
      "text/plain": [
       "<IPython.core.display.HTML object>"
      ]
     },
     "metadata": {},
     "output_type": "display_data"
    },
    {
     "data": {
      "text/html": [
       " View project at <a href='https://wandb.ai/ravioli1369-indian-institute-of-technology-bombay/BTSbot' target=\"_blank\">https://wandb.ai/ravioli1369-indian-institute-of-technology-bombay/BTSbot</a>"
      ],
      "text/plain": [
       "<IPython.core.display.HTML object>"
      ]
     },
     "metadata": {},
     "output_type": "display_data"
    },
    {
     "data": {
      "text/html": [
       " View sweep at <a href='https://wandb.ai/ravioli1369-indian-institute-of-technology-bombay/BTSbot/sweeps/kloha184' target=\"_blank\">https://wandb.ai/ravioli1369-indian-institute-of-technology-bombay/BTSbot/sweeps/kloha184</a>"
      ],
      "text/plain": [
       "<IPython.core.display.HTML object>"
      ]
     },
     "metadata": {},
     "output_type": "display_data"
    },
    {
     "data": {
      "text/html": [
       " View run at <a href='https://wandb.ai/ravioli1369-indian-institute-of-technology-bombay/BTSbot/runs/le7du7wg' target=\"_blank\">https://wandb.ai/ravioli1369-indian-institute-of-technology-bombay/BTSbot/runs/le7du7wg</a>"
      ],
      "text/plain": [
       "<IPython.core.display.HTML object>"
      ]
     },
     "metadata": {},
     "output_type": "display_data"
    },
    {
     "name": "stdout",
     "output_type": "stream",
     "text": [
      "Epoch 1/15\n",
      "127/127 [==============================] - 15s 116ms/step - loss: nan - accuracy: 0.6631 - val_loss: nan - val_accuracy: 0.6731 - lr: 0.0018\n",
      "Epoch 2/15\n",
      "127/127 [==============================] - 16s 123ms/step - loss: nan - accuracy: 0.6604 - val_loss: nan - val_accuracy: 0.6769 - lr: 0.0018\n",
      "Epoch 3/15\n",
      "127/127 [==============================] - 16s 125ms/step - loss: nan - accuracy: 0.6605 - val_loss: nan - val_accuracy: 0.6750 - lr: 0.0018\n",
      "Epoch 4/15\n",
      "127/127 [==============================] - 17s 131ms/step - loss: nan - accuracy: 0.6640 - val_loss: nan - val_accuracy: 0.6769 - lr: 0.0018\n",
      "Epoch 5/15\n",
      "127/127 [==============================] - 16s 128ms/step - loss: nan - accuracy: 0.6663 - val_loss: nan - val_accuracy: 0.6619 - lr: 0.0018\n",
      "Epoch 6/15\n",
      "127/127 [==============================] - 16s 128ms/step - loss: nan - accuracy: 0.6627 - val_loss: nan - val_accuracy: 0.6805 - lr: 0.0018\n",
      "Epoch 7/15\n",
      "127/127 [==============================] - 16s 129ms/step - loss: nan - accuracy: 0.6643 - val_loss: nan - val_accuracy: 0.6743 - lr: 0.0018\n",
      "Epoch 7: early stopping\n",
      "160/160 [==============================] - 2s 12ms/step\n"
     ]
    },
    {
     "name": "stderr",
     "output_type": "stream",
     "text": [
      "/tmp/ipykernel_1537983/1319790779.py:115: RuntimeWarning: invalid value encountered in cast\n",
      "  preds = np.rint(np.transpose(raw_preds))[0].astype(int)\n"
     ]
    },
    {
     "name": "stdout",
     "output_type": "stream",
     "text": [
      "Overall validation accuracy 0.00%\n"
     ]
    },
    {
     "data": {
      "application/vnd.jupyter.widget-view+json": {
       "model_id": "7c010613f9074b5097c3fadedb18ef34",
       "version_major": 2,
       "version_minor": 0
      },
      "text/plain": [
       "VBox(children=(Label(value='0.003 MB of 0.003 MB uploaded\\r'), FloatProgress(value=1.0, max=1.0)))"
      ]
     },
     "metadata": {},
     "output_type": "display_data"
    },
    {
     "data": {
      "text/html": [
       "<style>\n",
       "    table.wandb td:nth-child(1) { padding: 0 10px; text-align: left ; width: auto;} td:nth-child(2) {text-align: left ; width: 100%}\n",
       "    .wandb-row { display: flex; flex-direction: row; flex-wrap: wrap; justify-content: flex-start; width: 100% }\n",
       "    .wandb-col { display: flex; flex-direction: column; flex-basis: 100%; flex: 1; padding: 10px; }\n",
       "    </style>\n",
       "<div class=\"wandb-row\"><div class=\"wandb-col\"><h3>Run history:</h3><br/><table class=\"wandb\"><tr><td>batch/accuracy</td><td>▁▃▃▄▄▄▃▄▄▄▄▄▅▅▅▅▄▄▆▅▅▅▅▄▄▅▅▅▅▄▄▄▅▅█▅▅▄▄▅</td></tr><tr><td>batch/batch_step</td><td>▁▁▁▁▂▂▂▂▂▃▃▃▃▃▄▄▄▄▄▄▅▅▅▅▅▅▆▆▆▆▆▇▇▇▇▇████</td></tr><tr><td>batch/learning_rate</td><td>▁▁▁▁▁▁▁▁▁▁▁▁▁▁▁▁▁▁▁▁▁▁▁▁▁▁▁▁▁▁▁▁▁▁▁▁▁▁▁▁</td></tr><tr><td>epoch/accuracy</td><td>▄▁▁▅█▄▆</td></tr><tr><td>epoch/epoch</td><td>▁▂▃▅▆▇█</td></tr><tr><td>epoch/learning_rate</td><td>▁▁▁▁▁▁▁</td></tr><tr><td>epoch/lr</td><td>▁▁▁▁▁▁▁</td></tr><tr><td>epoch/val_accuracy</td><td>▅▇▆▇▁█▆</td></tr></table><br/></div><div class=\"wandb-col\"><h3>Run summary:</h3><br/><table class=\"wandb\"><tr><td>batch/accuracy</td><td>0.66426</td></tr><tr><td>batch/batch_step</td><td>905</td></tr><tr><td>batch/learning_rate</td><td>0.00179</td></tr><tr><td>batch/loss</td><td>nan</td></tr><tr><td>epoch/accuracy</td><td>0.66433</td></tr><tr><td>epoch/epoch</td><td>6</td></tr><tr><td>epoch/learning_rate</td><td>0.00179</td></tr><tr><td>epoch/loss</td><td>nan</td></tr><tr><td>epoch/lr</td><td>0.00179</td></tr><tr><td>epoch/val_accuracy</td><td>0.67432</td></tr><tr><td>epoch/val_loss</td><td>nan</td></tr></table><br/></div></div>"
      ],
      "text/plain": [
       "<IPython.core.display.HTML object>"
      ]
     },
     "metadata": {},
     "output_type": "display_data"
    },
    {
     "data": {
      "text/html": [
       " View run <strong style=\"color:#cdcd00\">leafy-sweep-4</strong> at: <a href='https://wandb.ai/ravioli1369-indian-institute-of-technology-bombay/BTSbot/runs/le7du7wg' target=\"_blank\">https://wandb.ai/ravioli1369-indian-institute-of-technology-bombay/BTSbot/runs/le7du7wg</a><br/> View project at: <a href='https://wandb.ai/ravioli1369-indian-institute-of-technology-bombay/BTSbot' target=\"_blank\">https://wandb.ai/ravioli1369-indian-institute-of-technology-bombay/BTSbot</a><br/>Synced 6 W&B file(s), 0 media file(s), 0 artifact file(s) and 0 other file(s)"
      ],
      "text/plain": [
       "<IPython.core.display.HTML object>"
      ]
     },
     "metadata": {},
     "output_type": "display_data"
    },
    {
     "data": {
      "text/html": [
       "Find logs at: <code>./wandb/run-20240806_022306-le7du7wg/logs</code>"
      ],
      "text/plain": [
       "<IPython.core.display.HTML object>"
      ]
     },
     "metadata": {},
     "output_type": "display_data"
    },
    {
     "data": {
      "text/html": [
       "The new W&B backend becomes opt-out in version 0.18.0; try it out with `wandb.require(\"core\")`! See https://wandb.me/wandb-core for more information."
      ],
      "text/plain": [
       "<IPython.core.display.HTML object>"
      ]
     },
     "metadata": {},
     "output_type": "display_data"
    },
    {
     "name": "stderr",
     "output_type": "stream",
     "text": [
      "\u001b[34m\u001b[1mwandb\u001b[0m: Agent Starting Run: fmmrywtx with config:\n",
      "\u001b[34m\u001b[1mwandb\u001b[0m: \tLR_plateau_patience: 36\n",
      "\u001b[34m\u001b[1mwandb\u001b[0m: \tbatch_size: 56\n",
      "\u001b[34m\u001b[1mwandb\u001b[0m: \tbeta_1: 1.4750455920605825\n",
      "\u001b[34m\u001b[1mwandb\u001b[0m: \tbeta_2: 1.0646931859110644\n",
      "\u001b[34m\u001b[1mwandb\u001b[0m: \tdropout_1: 0.28018214648488454\n",
      "\u001b[34m\u001b[1mwandb\u001b[0m: \tdropout_2: 0.31625064436371975\n",
      "\u001b[34m\u001b[1mwandb\u001b[0m: \tdropout_3: 0.3372504927617388\n",
      "\u001b[34m\u001b[1mwandb\u001b[0m: \tearly_stopping_patience: 15\n",
      "\u001b[34m\u001b[1mwandb\u001b[0m: \tepochs: 7\n",
      "\u001b[34m\u001b[1mwandb\u001b[0m: \timage_size: (63,63,3)\n",
      "\u001b[34m\u001b[1mwandb\u001b[0m: \tlearning_rate: 0.0019968458571253665\n",
      "\u001b[34m\u001b[1mwandb\u001b[0m: \tloss: binary_crossentropy\n",
      "\u001b[34m\u001b[1mwandb\u001b[0m: \tmetadata_size: (14,)\n",
      "\u001b[34m\u001b[1mwandb\u001b[0m: \toptimizer: adam\n",
      "\u001b[34m\u001b[1mwandb\u001b[0m: \trandom_seed: 42\n",
      "\u001b[34m\u001b[1mwandb\u001b[0m: \treduce_LR_factor: 0.8577071543030068\n",
      "\u001b[34m\u001b[1mwandb\u001b[0m: \treduce_LR_minLR: 1.5687659747204508e-06\n",
      "\u001b[34m\u001b[1mwandb\u001b[0m: \ttrain_data_version: ZTFSS\n"
     ]
    },
    {
     "data": {
      "text/html": [
       "Tracking run with wandb version 0.17.5"
      ],
      "text/plain": [
       "<IPython.core.display.HTML object>"
      ]
     },
     "metadata": {},
     "output_type": "display_data"
    },
    {
     "data": {
      "text/html": [
       "Run data is saved locally in <code>/home/exouser/Documents/ztf_summer_school_2024/lectures/01-ml/wandb/run-20240806_022514-fmmrywtx</code>"
      ],
      "text/plain": [
       "<IPython.core.display.HTML object>"
      ]
     },
     "metadata": {},
     "output_type": "display_data"
    },
    {
     "data": {
      "text/html": [
       "Syncing run <strong><a href='https://wandb.ai/ravioli1369-indian-institute-of-technology-bombay/BTSbot/runs/fmmrywtx' target=\"_blank\">hearty-sweep-5</a></strong> to <a href='https://wandb.ai/ravioli1369-indian-institute-of-technology-bombay/BTSbot' target=\"_blank\">Weights & Biases</a> (<a href='https://wandb.me/run' target=\"_blank\">docs</a>)<br/>Sweep page: <a href='https://wandb.ai/ravioli1369-indian-institute-of-technology-bombay/BTSbot/sweeps/kloha184' target=\"_blank\">https://wandb.ai/ravioli1369-indian-institute-of-technology-bombay/BTSbot/sweeps/kloha184</a>"
      ],
      "text/plain": [
       "<IPython.core.display.HTML object>"
      ]
     },
     "metadata": {},
     "output_type": "display_data"
    },
    {
     "data": {
      "text/html": [
       " View project at <a href='https://wandb.ai/ravioli1369-indian-institute-of-technology-bombay/BTSbot' target=\"_blank\">https://wandb.ai/ravioli1369-indian-institute-of-technology-bombay/BTSbot</a>"
      ],
      "text/plain": [
       "<IPython.core.display.HTML object>"
      ]
     },
     "metadata": {},
     "output_type": "display_data"
    },
    {
     "data": {
      "text/html": [
       " View sweep at <a href='https://wandb.ai/ravioli1369-indian-institute-of-technology-bombay/BTSbot/sweeps/kloha184' target=\"_blank\">https://wandb.ai/ravioli1369-indian-institute-of-technology-bombay/BTSbot/sweeps/kloha184</a>"
      ],
      "text/plain": [
       "<IPython.core.display.HTML object>"
      ]
     },
     "metadata": {},
     "output_type": "display_data"
    },
    {
     "data": {
      "text/html": [
       " View run at <a href='https://wandb.ai/ravioli1369-indian-institute-of-technology-bombay/BTSbot/runs/fmmrywtx' target=\"_blank\">https://wandb.ai/ravioli1369-indian-institute-of-technology-bombay/BTSbot/runs/fmmrywtx</a>"
      ],
      "text/plain": [
       "<IPython.core.display.HTML object>"
      ]
     },
     "metadata": {},
     "output_type": "display_data"
    },
    {
     "name": "stdout",
     "output_type": "stream",
     "text": [
      "Epoch 1/7\n",
      "118/118 [==============================] - 16s 129ms/step - loss: nan - accuracy: 0.6633 - val_loss: nan - val_accuracy: 0.6724 - lr: 0.0020\n",
      "Epoch 2/7\n",
      "118/118 [==============================] - 16s 140ms/step - loss: nan - accuracy: 0.6609 - val_loss: nan - val_accuracy: 0.6765 - lr: 0.0020\n",
      "Epoch 3/7\n",
      "118/118 [==============================] - 16s 138ms/step - loss: nan - accuracy: 0.6598 - val_loss: nan - val_accuracy: 0.6747 - lr: 0.0020\n",
      "Epoch 4/7\n",
      "118/118 [==============================] - 16s 139ms/step - loss: nan - accuracy: 0.6628 - val_loss: nan - val_accuracy: 0.6796 - lr: 0.0020\n",
      "Epoch 5/7\n",
      "118/118 [==============================] - 16s 137ms/step - loss: nan - accuracy: 0.6672 - val_loss: nan - val_accuracy: 0.6611 - lr: 0.0020\n",
      "Epoch 6/7\n",
      "118/118 [==============================] - 17s 140ms/step - loss: nan - accuracy: 0.6640 - val_loss: nan - val_accuracy: 0.6790 - lr: 0.0020\n",
      "Epoch 7/7\n",
      "118/118 [==============================] - 16s 140ms/step - loss: nan - accuracy: 0.6630 - val_loss: nan - val_accuracy: 0.6817 - lr: 0.0020\n",
      "148/148 [==============================] - 2s 13ms/step\n"
     ]
    },
    {
     "name": "stderr",
     "output_type": "stream",
     "text": [
      "/tmp/ipykernel_1537983/1319790779.py:115: RuntimeWarning: invalid value encountered in cast\n",
      "  preds = np.rint(np.transpose(raw_preds))[0].astype(int)\n"
     ]
    },
    {
     "name": "stdout",
     "output_type": "stream",
     "text": [
      "Overall validation accuracy 0.00%\n"
     ]
    },
    {
     "data": {
      "application/vnd.jupyter.widget-view+json": {
       "model_id": "bc1dbb6f992f4aecb9edfd4b8c7697ff",
       "version_major": 2,
       "version_minor": 0
      },
      "text/plain": [
       "VBox(children=(Label(value='0.003 MB of 0.003 MB uploaded\\r'), FloatProgress(value=1.0, max=1.0)))"
      ]
     },
     "metadata": {},
     "output_type": "display_data"
    },
    {
     "data": {
      "text/html": [
       "<style>\n",
       "    table.wandb td:nth-child(1) { padding: 0 10px; text-align: left ; width: auto;} td:nth-child(2) {text-align: left ; width: 100%}\n",
       "    .wandb-row { display: flex; flex-direction: row; flex-wrap: wrap; justify-content: flex-start; width: 100% }\n",
       "    .wandb-col { display: flex; flex-direction: column; flex-basis: 100%; flex: 1; padding: 10px; }\n",
       "    </style>\n",
       "<div class=\"wandb-row\"><div class=\"wandb-col\"><h3>Run history:</h3><br/><table class=\"wandb\"><tr><td>batch/accuracy</td><td>▁▄▄▅▆▆▃▅▅▅▅▆▇▇▆▆▆▆█▇▇▇▆▄▆▇▇▇▇▅▄▅▆▆▆▆▆▅▆▆</td></tr><tr><td>batch/batch_step</td><td>▁▁▁▂▂▂▂▂▂▃▃▃▃▃▃▄▄▄▄▄▅▅▅▅▅▅▆▆▆▆▆▆▇▇▇▇▇███</td></tr><tr><td>batch/learning_rate</td><td>▁▁▁▁▁▁▁▁▁▁▁▁▁▁▁▁▁▁▁▁▁▁▁▁▁▁▁▁▁▁▁▁▁▁▁▁▁▁▁▁</td></tr><tr><td>epoch/accuracy</td><td>▄▂▁▄█▅▄</td></tr><tr><td>epoch/epoch</td><td>▁▂▃▅▆▇█</td></tr><tr><td>epoch/learning_rate</td><td>▁▁▁▁▁▁▁</td></tr><tr><td>epoch/lr</td><td>▁▁▁▁▁▁▁</td></tr><tr><td>epoch/val_accuracy</td><td>▅▆▆▇▁▇█</td></tr></table><br/></div><div class=\"wandb-col\"><h3>Run summary:</h3><br/><table class=\"wandb\"><tr><td>batch/accuracy</td><td>0.66318</td></tr><tr><td>batch/batch_step</td><td>835</td></tr><tr><td>batch/learning_rate</td><td>0.002</td></tr><tr><td>batch/loss</td><td>nan</td></tr><tr><td>epoch/accuracy</td><td>0.66298</td></tr><tr><td>epoch/epoch</td><td>6</td></tr><tr><td>epoch/learning_rate</td><td>0.002</td></tr><tr><td>epoch/loss</td><td>nan</td></tr><tr><td>epoch/lr</td><td>0.002</td></tr><tr><td>epoch/val_accuracy</td><td>0.68165</td></tr><tr><td>epoch/val_loss</td><td>nan</td></tr></table><br/></div></div>"
      ],
      "text/plain": [
       "<IPython.core.display.HTML object>"
      ]
     },
     "metadata": {},
     "output_type": "display_data"
    },
    {
     "data": {
      "text/html": [
       " View run <strong style=\"color:#cdcd00\">hearty-sweep-5</strong> at: <a href='https://wandb.ai/ravioli1369-indian-institute-of-technology-bombay/BTSbot/runs/fmmrywtx' target=\"_blank\">https://wandb.ai/ravioli1369-indian-institute-of-technology-bombay/BTSbot/runs/fmmrywtx</a><br/> View project at: <a href='https://wandb.ai/ravioli1369-indian-institute-of-technology-bombay/BTSbot' target=\"_blank\">https://wandb.ai/ravioli1369-indian-institute-of-technology-bombay/BTSbot</a><br/>Synced 6 W&B file(s), 0 media file(s), 0 artifact file(s) and 0 other file(s)"
      ],
      "text/plain": [
       "<IPython.core.display.HTML object>"
      ]
     },
     "metadata": {},
     "output_type": "display_data"
    },
    {
     "data": {
      "text/html": [
       "Find logs at: <code>./wandb/run-20240806_022514-fmmrywtx/logs</code>"
      ],
      "text/plain": [
       "<IPython.core.display.HTML object>"
      ]
     },
     "metadata": {},
     "output_type": "display_data"
    },
    {
     "data": {
      "text/html": [
       "The new W&B backend becomes opt-out in version 0.18.0; try it out with `wandb.require(\"core\")`! See https://wandb.me/wandb-core for more information."
      ],
      "text/plain": [
       "<IPython.core.display.HTML object>"
      ]
     },
     "metadata": {},
     "output_type": "display_data"
    },
    {
     "name": "stderr",
     "output_type": "stream",
     "text": [
      "\u001b[34m\u001b[1mwandb\u001b[0m: Agent Starting Run: 76wyger4 with config:\n",
      "\u001b[34m\u001b[1mwandb\u001b[0m: \tLR_plateau_patience: 21\n",
      "\u001b[34m\u001b[1mwandb\u001b[0m: \tbatch_size: 41\n",
      "\u001b[34m\u001b[1mwandb\u001b[0m: \tbeta_1: 0.6461420377226876\n",
      "\u001b[34m\u001b[1mwandb\u001b[0m: \tbeta_2: 1.3955320195528689\n",
      "\u001b[34m\u001b[1mwandb\u001b[0m: \tdropout_1: 0.30486393930427724\n",
      "\u001b[34m\u001b[1mwandb\u001b[0m: \tdropout_2: 0.214512766876354\n",
      "\u001b[34m\u001b[1mwandb\u001b[0m: \tdropout_3: 0.2539419569329129\n",
      "\u001b[34m\u001b[1mwandb\u001b[0m: \tearly_stopping_patience: 14\n",
      "\u001b[34m\u001b[1mwandb\u001b[0m: \tepochs: 14\n",
      "\u001b[34m\u001b[1mwandb\u001b[0m: \timage_size: (63,63,3)\n",
      "\u001b[34m\u001b[1mwandb\u001b[0m: \tlearning_rate: 0.0005876717981297035\n",
      "\u001b[34m\u001b[1mwandb\u001b[0m: \tloss: binary_crossentropy\n",
      "\u001b[34m\u001b[1mwandb\u001b[0m: \tmetadata_size: (14,)\n",
      "\u001b[34m\u001b[1mwandb\u001b[0m: \toptimizer: adam\n",
      "\u001b[34m\u001b[1mwandb\u001b[0m: \trandom_seed: 42\n",
      "\u001b[34m\u001b[1mwandb\u001b[0m: \treduce_LR_factor: 0.8422507425032417\n",
      "\u001b[34m\u001b[1mwandb\u001b[0m: \treduce_LR_minLR: 1.2809907360244424e-06\n",
      "\u001b[34m\u001b[1mwandb\u001b[0m: \ttrain_data_version: ZTFSS\n"
     ]
    },
    {
     "data": {
      "text/html": [
       "Tracking run with wandb version 0.17.5"
      ],
      "text/plain": [
       "<IPython.core.display.HTML object>"
      ]
     },
     "metadata": {},
     "output_type": "display_data"
    },
    {
     "data": {
      "text/html": [
       "Run data is saved locally in <code>/home/exouser/Documents/ztf_summer_school_2024/lectures/01-ml/wandb/run-20240806_022724-76wyger4</code>"
      ],
      "text/plain": [
       "<IPython.core.display.HTML object>"
      ]
     },
     "metadata": {},
     "output_type": "display_data"
    },
    {
     "data": {
      "text/html": [
       "Syncing run <strong><a href='https://wandb.ai/ravioli1369-indian-institute-of-technology-bombay/BTSbot/runs/76wyger4' target=\"_blank\">happy-sweep-6</a></strong> to <a href='https://wandb.ai/ravioli1369-indian-institute-of-technology-bombay/BTSbot' target=\"_blank\">Weights & Biases</a> (<a href='https://wandb.me/run' target=\"_blank\">docs</a>)<br/>Sweep page: <a href='https://wandb.ai/ravioli1369-indian-institute-of-technology-bombay/BTSbot/sweeps/kloha184' target=\"_blank\">https://wandb.ai/ravioli1369-indian-institute-of-technology-bombay/BTSbot/sweeps/kloha184</a>"
      ],
      "text/plain": [
       "<IPython.core.display.HTML object>"
      ]
     },
     "metadata": {},
     "output_type": "display_data"
    },
    {
     "data": {
      "text/html": [
       " View project at <a href='https://wandb.ai/ravioli1369-indian-institute-of-technology-bombay/BTSbot' target=\"_blank\">https://wandb.ai/ravioli1369-indian-institute-of-technology-bombay/BTSbot</a>"
      ],
      "text/plain": [
       "<IPython.core.display.HTML object>"
      ]
     },
     "metadata": {},
     "output_type": "display_data"
    },
    {
     "data": {
      "text/html": [
       " View sweep at <a href='https://wandb.ai/ravioli1369-indian-institute-of-technology-bombay/BTSbot/sweeps/kloha184' target=\"_blank\">https://wandb.ai/ravioli1369-indian-institute-of-technology-bombay/BTSbot/sweeps/kloha184</a>"
      ],
      "text/plain": [
       "<IPython.core.display.HTML object>"
      ]
     },
     "metadata": {},
     "output_type": "display_data"
    },
    {
     "data": {
      "text/html": [
       " View run at <a href='https://wandb.ai/ravioli1369-indian-institute-of-technology-bombay/BTSbot/runs/76wyger4' target=\"_blank\">https://wandb.ai/ravioli1369-indian-institute-of-technology-bombay/BTSbot/runs/76wyger4</a>"
      ],
      "text/plain": [
       "<IPython.core.display.HTML object>"
      ]
     },
     "metadata": {},
     "output_type": "display_data"
    },
    {
     "name": "stdout",
     "output_type": "stream",
     "text": [
      "Epoch 1/14\n",
      "161/161 [==============================] - 16s 96ms/step - loss: nan - accuracy: 0.6638 - val_loss: nan - val_accuracy: 0.6744 - lr: 5.8767e-04\n",
      "Epoch 2/14\n",
      "161/161 [==============================] - 17s 108ms/step - loss: nan - accuracy: 0.6607 - val_loss: nan - val_accuracy: 0.6747 - lr: 5.8767e-04\n",
      "Epoch 3/14\n",
      "161/161 [==============================] - 17s 103ms/step - loss: nan - accuracy: 0.6599 - val_loss: nan - val_accuracy: 0.6759 - lr: 5.8767e-04\n",
      "Epoch 4/14\n",
      "161/161 [==============================] - 16s 102ms/step - loss: nan - accuracy: 0.6649 - val_loss: nan - val_accuracy: 0.6790 - lr: 5.8767e-04\n",
      "Epoch 5/14\n",
      "161/161 [==============================] - 17s 105ms/step - loss: nan - accuracy: 0.6657 - val_loss: nan - val_accuracy: 0.6630 - lr: 5.8767e-04\n",
      "Epoch 6/14\n",
      "161/161 [==============================] - 17s 103ms/step - loss: nan - accuracy: 0.6622 - val_loss: nan - val_accuracy: 0.6835 - lr: 5.8767e-04\n",
      "Epoch 7/14\n",
      "161/161 [==============================] - 17s 104ms/step - loss: nan - accuracy: 0.6649 - val_loss: nan - val_accuracy: 0.6744 - lr: 5.8767e-04\n",
      "Epoch 8/14\n",
      "161/161 [==============================] - 17s 104ms/step - loss: nan - accuracy: 0.6582 - val_loss: nan - val_accuracy: 0.6747 - lr: 5.8767e-04\n",
      "Epoch 9/14\n",
      "161/161 [==============================] - 17s 105ms/step - loss: nan - accuracy: 0.6678 - val_loss: nan - val_accuracy: 0.6759 - lr: 5.8767e-04\n",
      "Epoch 10/14\n",
      "161/161 [==============================] - 17s 105ms/step - loss: nan - accuracy: 0.6657 - val_loss: nan - val_accuracy: 0.6790 - lr: 5.8767e-04\n",
      "Epoch 11/14\n",
      "161/161 [==============================] - 16s 102ms/step - loss: nan - accuracy: 0.6627 - val_loss: nan - val_accuracy: 0.6630 - lr: 5.8767e-04\n",
      "Epoch 12/14\n",
      "161/161 [==============================] - 16s 102ms/step - loss: nan - accuracy: 0.6617 - val_loss: nan - val_accuracy: 0.6835 - lr: 5.8767e-04\n",
      "Epoch 13/14\n",
      "161/161 [==============================] - 17s 105ms/step - loss: nan - accuracy: 0.6598 - val_loss: nan - val_accuracy: 0.6768 - lr: 5.8767e-04\n",
      "Epoch 14/14\n",
      "161/161 [==============================] - 16s 101ms/step - loss: nan - accuracy: 0.6655 - val_loss: nan - val_accuracy: 0.6765 - lr: 5.8767e-04\n",
      "Epoch 14: early stopping\n",
      "203/203 [==============================] - 2s 10ms/step\n",
      "Overall validation accuracy 0.00%\n"
     ]
    },
    {
     "name": "stderr",
     "output_type": "stream",
     "text": [
      "/tmp/ipykernel_1537983/1319790779.py:115: RuntimeWarning: invalid value encountered in cast\n",
      "  preds = np.rint(np.transpose(raw_preds))[0].astype(int)\n"
     ]
    },
    {
     "data": {
      "application/vnd.jupyter.widget-view+json": {
       "model_id": "cd3b190f2c6e4f4fa529e386c70dd6c4",
       "version_major": 2,
       "version_minor": 0
      },
      "text/plain": [
       "VBox(children=(Label(value='0.003 MB of 0.003 MB uploaded\\r'), FloatProgress(value=1.0, max=1.0)))"
      ]
     },
     "metadata": {},
     "output_type": "display_data"
    },
    {
     "data": {
      "text/html": [
       "<style>\n",
       "    table.wandb td:nth-child(1) { padding: 0 10px; text-align: left ; width: auto;} td:nth-child(2) {text-align: left ; width: 100%}\n",
       "    .wandb-row { display: flex; flex-direction: row; flex-wrap: wrap; justify-content: flex-start; width: 100% }\n",
       "    .wandb-col { display: flex; flex-direction: column; flex-basis: 100%; flex: 1; padding: 10px; }\n",
       "    </style>\n",
       "<div class=\"wandb-row\"><div class=\"wandb-col\"><h3>Run history:</h3><br/><table class=\"wandb\"><tr><td>batch/accuracy</td><td>▅▆▆▆▆▆▇▆▆▇▇▆▆▆▆▆▆█▆▆▆▆▆▇▆▆▆▆▆▆▆▁▆▆▆▆▆▆▆▆</td></tr><tr><td>batch/batch_step</td><td>▁▁▁▁▂▂▂▂▂▃▃▃▃▃▃▄▄▄▄▄▅▅▅▅▅▅▆▆▆▆▆▇▇▇▇▇▇███</td></tr><tr><td>batch/learning_rate</td><td>▁▁▁▁▁▁▁▁▁▁▁▁▁▁▁▁▁▁▁▁▁▁▁▁▁▁▁▁▁▁▁▁▁▁▁▁▁▁▁▁</td></tr><tr><td>epoch/accuracy</td><td>▅▃▂▆▆▄▆▁█▆▄▄▂▆</td></tr><tr><td>epoch/epoch</td><td>▁▂▂▃▃▄▄▅▅▆▆▇▇█</td></tr><tr><td>epoch/learning_rate</td><td>▁▁▁▁▁▁▁▁▁▁▁▁▁▁</td></tr><tr><td>epoch/lr</td><td>▁▁▁▁▁▁▁▁▁▁▁▁▁▁</td></tr><tr><td>epoch/val_accuracy</td><td>▅▅▅▆▁█▅▅▅▆▁█▆▆</td></tr></table><br/></div><div class=\"wandb-col\"><h3>Run summary:</h3><br/><table class=\"wandb\"><tr><td>batch/accuracy</td><td>0.66555</td></tr><tr><td>batch/batch_step</td><td>2305</td></tr><tr><td>batch/learning_rate</td><td>0.00059</td></tr><tr><td>batch/loss</td><td>nan</td></tr><tr><td>epoch/accuracy</td><td>0.66555</td></tr><tr><td>epoch/epoch</td><td>13</td></tr><tr><td>epoch/learning_rate</td><td>0.00059</td></tr><tr><td>epoch/loss</td><td>nan</td></tr><tr><td>epoch/lr</td><td>0.00059</td></tr><tr><td>epoch/val_accuracy</td><td>0.67654</td></tr><tr><td>epoch/val_loss</td><td>nan</td></tr></table><br/></div></div>"
      ],
      "text/plain": [
       "<IPython.core.display.HTML object>"
      ]
     },
     "metadata": {},
     "output_type": "display_data"
    },
    {
     "data": {
      "text/html": [
       " View run <strong style=\"color:#cdcd00\">happy-sweep-6</strong> at: <a href='https://wandb.ai/ravioli1369-indian-institute-of-technology-bombay/BTSbot/runs/76wyger4' target=\"_blank\">https://wandb.ai/ravioli1369-indian-institute-of-technology-bombay/BTSbot/runs/76wyger4</a><br/> View project at: <a href='https://wandb.ai/ravioli1369-indian-institute-of-technology-bombay/BTSbot' target=\"_blank\">https://wandb.ai/ravioli1369-indian-institute-of-technology-bombay/BTSbot</a><br/>Synced 6 W&B file(s), 0 media file(s), 0 artifact file(s) and 0 other file(s)"
      ],
      "text/plain": [
       "<IPython.core.display.HTML object>"
      ]
     },
     "metadata": {},
     "output_type": "display_data"
    },
    {
     "data": {
      "text/html": [
       "Find logs at: <code>./wandb/run-20240806_022724-76wyger4/logs</code>"
      ],
      "text/plain": [
       "<IPython.core.display.HTML object>"
      ]
     },
     "metadata": {},
     "output_type": "display_data"
    },
    {
     "data": {
      "text/html": [
       "The new W&B backend becomes opt-out in version 0.18.0; try it out with `wandb.require(\"core\")`! See https://wandb.me/wandb-core for more information."
      ],
      "text/plain": [
       "<IPython.core.display.HTML object>"
      ]
     },
     "metadata": {},
     "output_type": "display_data"
    },
    {
     "name": "stderr",
     "output_type": "stream",
     "text": [
      "\u001b[34m\u001b[1mwandb\u001b[0m: Agent Starting Run: 4dk3i3xw with config:\n",
      "\u001b[34m\u001b[1mwandb\u001b[0m: \tLR_plateau_patience: 34\n",
      "\u001b[34m\u001b[1mwandb\u001b[0m: \tbatch_size: 50\n",
      "\u001b[34m\u001b[1mwandb\u001b[0m: \tbeta_1: 1.4424232692604928\n",
      "\u001b[34m\u001b[1mwandb\u001b[0m: \tbeta_2: 0.9028393375192711\n",
      "\u001b[34m\u001b[1mwandb\u001b[0m: \tdropout_1: 0.3725995115929983\n",
      "\u001b[34m\u001b[1mwandb\u001b[0m: \tdropout_2: 0.3428364570058824\n",
      "\u001b[34m\u001b[1mwandb\u001b[0m: \tdropout_3: 0.30790975481450866\n",
      "\u001b[34m\u001b[1mwandb\u001b[0m: \tearly_stopping_patience: 6\n",
      "\u001b[34m\u001b[1mwandb\u001b[0m: \tepochs: 16\n",
      "\u001b[34m\u001b[1mwandb\u001b[0m: \timage_size: (63,63,3)\n",
      "\u001b[34m\u001b[1mwandb\u001b[0m: \tlearning_rate: 0.000512057812674928\n",
      "\u001b[34m\u001b[1mwandb\u001b[0m: \tloss: binary_crossentropy\n",
      "\u001b[34m\u001b[1mwandb\u001b[0m: \tmetadata_size: (14,)\n",
      "\u001b[34m\u001b[1mwandb\u001b[0m: \toptimizer: adam\n",
      "\u001b[34m\u001b[1mwandb\u001b[0m: \trandom_seed: 42\n",
      "\u001b[34m\u001b[1mwandb\u001b[0m: \treduce_LR_factor: 0.4937381905599518\n",
      "\u001b[34m\u001b[1mwandb\u001b[0m: \treduce_LR_minLR: 1.3103836630949383e-06\n",
      "\u001b[34m\u001b[1mwandb\u001b[0m: \ttrain_data_version: ZTFSS\n"
     ]
    },
    {
     "data": {
      "text/html": [
       "Tracking run with wandb version 0.17.5"
      ],
      "text/plain": [
       "<IPython.core.display.HTML object>"
      ]
     },
     "metadata": {},
     "output_type": "display_data"
    },
    {
     "data": {
      "text/html": [
       "Run data is saved locally in <code>/home/exouser/Documents/ztf_summer_school_2024/lectures/01-ml/wandb/run-20240806_023132-4dk3i3xw</code>"
      ],
      "text/plain": [
       "<IPython.core.display.HTML object>"
      ]
     },
     "metadata": {},
     "output_type": "display_data"
    },
    {
     "data": {
      "text/html": [
       "Syncing run <strong><a href='https://wandb.ai/ravioli1369-indian-institute-of-technology-bombay/BTSbot/runs/4dk3i3xw' target=\"_blank\">sandy-sweep-7</a></strong> to <a href='https://wandb.ai/ravioli1369-indian-institute-of-technology-bombay/BTSbot' target=\"_blank\">Weights & Biases</a> (<a href='https://wandb.me/run' target=\"_blank\">docs</a>)<br/>Sweep page: <a href='https://wandb.ai/ravioli1369-indian-institute-of-technology-bombay/BTSbot/sweeps/kloha184' target=\"_blank\">https://wandb.ai/ravioli1369-indian-institute-of-technology-bombay/BTSbot/sweeps/kloha184</a>"
      ],
      "text/plain": [
       "<IPython.core.display.HTML object>"
      ]
     },
     "metadata": {},
     "output_type": "display_data"
    },
    {
     "data": {
      "text/html": [
       " View project at <a href='https://wandb.ai/ravioli1369-indian-institute-of-technology-bombay/BTSbot' target=\"_blank\">https://wandb.ai/ravioli1369-indian-institute-of-technology-bombay/BTSbot</a>"
      ],
      "text/plain": [
       "<IPython.core.display.HTML object>"
      ]
     },
     "metadata": {},
     "output_type": "display_data"
    },
    {
     "data": {
      "text/html": [
       " View sweep at <a href='https://wandb.ai/ravioli1369-indian-institute-of-technology-bombay/BTSbot/sweeps/kloha184' target=\"_blank\">https://wandb.ai/ravioli1369-indian-institute-of-technology-bombay/BTSbot/sweeps/kloha184</a>"
      ],
      "text/plain": [
       "<IPython.core.display.HTML object>"
      ]
     },
     "metadata": {},
     "output_type": "display_data"
    },
    {
     "data": {
      "text/html": [
       " View run at <a href='https://wandb.ai/ravioli1369-indian-institute-of-technology-bombay/BTSbot/runs/4dk3i3xw' target=\"_blank\">https://wandb.ai/ravioli1369-indian-institute-of-technology-bombay/BTSbot/runs/4dk3i3xw</a>"
      ],
      "text/plain": [
       "<IPython.core.display.HTML object>"
      ]
     },
     "metadata": {},
     "output_type": "display_data"
    },
    {
     "name": "stdout",
     "output_type": "stream",
     "text": [
      "Epoch 1/16\n",
      "132/132 [==============================] - 16s 116ms/step - loss: 2.2996 - accuracy: 0.6344 - val_loss: 3.6075 - val_accuracy: 0.6745 - lr: 5.1206e-04\n",
      "Epoch 2/16\n",
      "132/132 [==============================] - 17s 130ms/step - loss: nan - accuracy: 0.6607 - val_loss: nan - val_accuracy: 0.6767 - lr: 5.1206e-04\n",
      "Epoch 3/16\n",
      "132/132 [==============================] - 16s 123ms/step - loss: nan - accuracy: 0.6604 - val_loss: nan - val_accuracy: 0.6749 - lr: 5.1206e-04\n",
      "Epoch 4/16\n",
      "132/132 [==============================] - 17s 125ms/step - loss: nan - accuracy: 0.6636 - val_loss: nan - val_accuracy: 0.6786 - lr: 5.1206e-04\n",
      "Epoch 5/16\n",
      "132/132 [==============================] - 17s 128ms/step - loss: nan - accuracy: 0.6665 - val_loss: nan - val_accuracy: 0.6613 - lr: 5.1206e-04\n",
      "Epoch 6/16\n",
      "132/132 [==============================] - 17s 132ms/step - loss: nan - accuracy: 0.6633 - val_loss: nan - val_accuracy: 0.6792 - lr: 5.1206e-04\n",
      "Epoch 7/16\n",
      "132/132 [==============================] - 17s 128ms/step - loss: nan - accuracy: 0.6636 - val_loss: nan - val_accuracy: 0.6812 - lr: 5.1206e-04\n",
      "Epoch 7: early stopping\n",
      "166/166 [==============================] - 2s 12ms/step\n",
      "Overall validation accuracy 0.00%\n"
     ]
    },
    {
     "name": "stderr",
     "output_type": "stream",
     "text": [
      "/tmp/ipykernel_1537983/1319790779.py:115: RuntimeWarning: invalid value encountered in cast\n",
      "  preds = np.rint(np.transpose(raw_preds))[0].astype(int)\n"
     ]
    },
    {
     "data": {
      "application/vnd.jupyter.widget-view+json": {
       "model_id": "a8124f3680fd41afb2b4617f9b813f6f",
       "version_major": 2,
       "version_minor": 0
      },
      "text/plain": [
       "VBox(children=(Label(value='0.003 MB of 0.003 MB uploaded\\r'), FloatProgress(value=1.0, max=1.0)))"
      ]
     },
     "metadata": {},
     "output_type": "display_data"
    },
    {
     "data": {
      "text/html": [
       "<style>\n",
       "    table.wandb td:nth-child(1) { padding: 0 10px; text-align: left ; width: auto;} td:nth-child(2) {text-align: left ; width: 100%}\n",
       "    .wandb-row { display: flex; flex-direction: row; flex-wrap: wrap; justify-content: flex-start; width: 100% }\n",
       "    .wandb-col { display: flex; flex-direction: column; flex-basis: 100%; flex: 1; padding: 10px; }\n",
       "    </style>\n",
       "<div class=\"wandb-row\"><div class=\"wandb-col\"><h3>Run history:</h3><br/><table class=\"wandb\"><tr><td>batch/accuracy</td><td>▁▄▅▆▇▇▇▇▇▇▇▇██▇▇▇▇███▇▇▇▇▇▇▇▇▇▇▇▇▇██▇▇▇▇</td></tr><tr><td>batch/batch_step</td><td>▁▁▁▂▂▂▂▂▂▃▃▃▃▃▃▄▄▄▄▄▅▅▅▅▅▅▆▆▆▆▆▆▇▇▇▇▇███</td></tr><tr><td>batch/learning_rate</td><td>▁▁▁▁▁▁▁▁▁▁▁▁▁▁▁▁▁▁▁▁▁▁▁▁▁▁▁▁▁▁▁▁▁▁▁▁▁▁▁▁</td></tr><tr><td>batch/loss</td><td>▄▁▁▁▁▂▅▅▆██                             </td></tr><tr><td>epoch/accuracy</td><td>▁▇▇▇█▇▇</td></tr><tr><td>epoch/epoch</td><td>▁▂▃▅▆▇█</td></tr><tr><td>epoch/learning_rate</td><td>▁▁▁▁▁▁▁</td></tr><tr><td>epoch/loss</td><td>▁      </td></tr><tr><td>epoch/lr</td><td>▁▁▁▁▁▁▁</td></tr><tr><td>epoch/val_accuracy</td><td>▆▆▆▇▁▇█</td></tr><tr><td>epoch/val_loss</td><td>▁      </td></tr></table><br/></div><div class=\"wandb-col\"><h3>Run summary:</h3><br/><table class=\"wandb\"><tr><td>batch/accuracy</td><td>0.66381</td></tr><tr><td>batch/batch_step</td><td>940</td></tr><tr><td>batch/learning_rate</td><td>0.00051</td></tr><tr><td>batch/loss</td><td>nan</td></tr><tr><td>epoch/accuracy</td><td>0.66363</td></tr><tr><td>epoch/epoch</td><td>6</td></tr><tr><td>epoch/learning_rate</td><td>0.00051</td></tr><tr><td>epoch/loss</td><td>nan</td></tr><tr><td>epoch/lr</td><td>0.00051</td></tr><tr><td>epoch/val_accuracy</td><td>0.68121</td></tr><tr><td>epoch/val_loss</td><td>nan</td></tr></table><br/></div></div>"
      ],
      "text/plain": [
       "<IPython.core.display.HTML object>"
      ]
     },
     "metadata": {},
     "output_type": "display_data"
    },
    {
     "data": {
      "text/html": [
       " View run <strong style=\"color:#cdcd00\">sandy-sweep-7</strong> at: <a href='https://wandb.ai/ravioli1369-indian-institute-of-technology-bombay/BTSbot/runs/4dk3i3xw' target=\"_blank\">https://wandb.ai/ravioli1369-indian-institute-of-technology-bombay/BTSbot/runs/4dk3i3xw</a><br/> View project at: <a href='https://wandb.ai/ravioli1369-indian-institute-of-technology-bombay/BTSbot' target=\"_blank\">https://wandb.ai/ravioli1369-indian-institute-of-technology-bombay/BTSbot</a><br/>Synced 6 W&B file(s), 0 media file(s), 0 artifact file(s) and 0 other file(s)"
      ],
      "text/plain": [
       "<IPython.core.display.HTML object>"
      ]
     },
     "metadata": {},
     "output_type": "display_data"
    },
    {
     "data": {
      "text/html": [
       "Find logs at: <code>./wandb/run-20240806_023132-4dk3i3xw/logs</code>"
      ],
      "text/plain": [
       "<IPython.core.display.HTML object>"
      ]
     },
     "metadata": {},
     "output_type": "display_data"
    },
    {
     "data": {
      "text/html": [
       "The new W&B backend becomes opt-out in version 0.18.0; try it out with `wandb.require(\"core\")`! See https://wandb.me/wandb-core for more information."
      ],
      "text/plain": [
       "<IPython.core.display.HTML object>"
      ]
     },
     "metadata": {},
     "output_type": "display_data"
    },
    {
     "name": "stderr",
     "output_type": "stream",
     "text": [
      "\u001b[34m\u001b[1mwandb\u001b[0m: Agent Starting Run: dgtbcm7n with config:\n",
      "\u001b[34m\u001b[1mwandb\u001b[0m: \tLR_plateau_patience: 28\n",
      "\u001b[34m\u001b[1mwandb\u001b[0m: \tbatch_size: 50\n",
      "\u001b[34m\u001b[1mwandb\u001b[0m: \tbeta_1: 1.4023406804955036\n",
      "\u001b[34m\u001b[1mwandb\u001b[0m: \tbeta_2: 1.1163269088549157\n",
      "\u001b[34m\u001b[1mwandb\u001b[0m: \tdropout_1: 0.3832775943848433\n",
      "\u001b[34m\u001b[1mwandb\u001b[0m: \tdropout_2: 0.16142316901034656\n",
      "\u001b[34m\u001b[1mwandb\u001b[0m: \tdropout_3: 0.3803741343227949\n",
      "\u001b[34m\u001b[1mwandb\u001b[0m: \tearly_stopping_patience: 15\n",
      "\u001b[34m\u001b[1mwandb\u001b[0m: \tepochs: 20\n",
      "\u001b[34m\u001b[1mwandb\u001b[0m: \timage_size: (63,63,3)\n",
      "\u001b[34m\u001b[1mwandb\u001b[0m: \tlearning_rate: 0.0018742413550791625\n",
      "\u001b[34m\u001b[1mwandb\u001b[0m: \tloss: binary_crossentropy\n",
      "\u001b[34m\u001b[1mwandb\u001b[0m: \tmetadata_size: (14,)\n",
      "\u001b[34m\u001b[1mwandb\u001b[0m: \toptimizer: adam\n",
      "\u001b[34m\u001b[1mwandb\u001b[0m: \trandom_seed: 42\n",
      "\u001b[34m\u001b[1mwandb\u001b[0m: \treduce_LR_factor: 0.3035456403653368\n",
      "\u001b[34m\u001b[1mwandb\u001b[0m: \treduce_LR_minLR: 1.6339452379346778e-06\n",
      "\u001b[34m\u001b[1mwandb\u001b[0m: \ttrain_data_version: ZTFSS\n"
     ]
    },
    {
     "data": {
      "text/html": [
       "Tracking run with wandb version 0.17.5"
      ],
      "text/plain": [
       "<IPython.core.display.HTML object>"
      ]
     },
     "metadata": {},
     "output_type": "display_data"
    },
    {
     "data": {
      "text/html": [
       "Run data is saved locally in <code>/home/exouser/Documents/ztf_summer_school_2024/lectures/01-ml/wandb/run-20240806_023345-dgtbcm7n</code>"
      ],
      "text/plain": [
       "<IPython.core.display.HTML object>"
      ]
     },
     "metadata": {},
     "output_type": "display_data"
    },
    {
     "data": {
      "text/html": [
       "Syncing run <strong><a href='https://wandb.ai/ravioli1369-indian-institute-of-technology-bombay/BTSbot/runs/dgtbcm7n' target=\"_blank\">sweet-sweep-8</a></strong> to <a href='https://wandb.ai/ravioli1369-indian-institute-of-technology-bombay/BTSbot' target=\"_blank\">Weights & Biases</a> (<a href='https://wandb.me/run' target=\"_blank\">docs</a>)<br/>Sweep page: <a href='https://wandb.ai/ravioli1369-indian-institute-of-technology-bombay/BTSbot/sweeps/kloha184' target=\"_blank\">https://wandb.ai/ravioli1369-indian-institute-of-technology-bombay/BTSbot/sweeps/kloha184</a>"
      ],
      "text/plain": [
       "<IPython.core.display.HTML object>"
      ]
     },
     "metadata": {},
     "output_type": "display_data"
    },
    {
     "data": {
      "text/html": [
       " View project at <a href='https://wandb.ai/ravioli1369-indian-institute-of-technology-bombay/BTSbot' target=\"_blank\">https://wandb.ai/ravioli1369-indian-institute-of-technology-bombay/BTSbot</a>"
      ],
      "text/plain": [
       "<IPython.core.display.HTML object>"
      ]
     },
     "metadata": {},
     "output_type": "display_data"
    },
    {
     "data": {
      "text/html": [
       " View sweep at <a href='https://wandb.ai/ravioli1369-indian-institute-of-technology-bombay/BTSbot/sweeps/kloha184' target=\"_blank\">https://wandb.ai/ravioli1369-indian-institute-of-technology-bombay/BTSbot/sweeps/kloha184</a>"
      ],
      "text/plain": [
       "<IPython.core.display.HTML object>"
      ]
     },
     "metadata": {},
     "output_type": "display_data"
    },
    {
     "data": {
      "text/html": [
       " View run at <a href='https://wandb.ai/ravioli1369-indian-institute-of-technology-bombay/BTSbot/runs/dgtbcm7n' target=\"_blank\">https://wandb.ai/ravioli1369-indian-institute-of-technology-bombay/BTSbot/runs/dgtbcm7n</a>"
      ],
      "text/plain": [
       "<IPython.core.display.HTML object>"
      ]
     },
     "metadata": {},
     "output_type": "display_data"
    },
    {
     "name": "stdout",
     "output_type": "stream",
     "text": [
      "Epoch 1/20\n",
      "132/132 [==============================] - 16s 117ms/step - loss: nan - accuracy: 0.6635 - val_loss: nan - val_accuracy: 0.6745 - lr: 0.0019\n",
      "Epoch 2/20\n",
      "132/132 [==============================] - 17s 125ms/step - loss: nan - accuracy: 0.6607 - val_loss: nan - val_accuracy: 0.6767 - lr: 0.0019\n",
      "Epoch 3/20\n",
      "132/132 [==============================] - 17s 127ms/step - loss: nan - accuracy: 0.6604 - val_loss: nan - val_accuracy: 0.6749 - lr: 0.0019\n",
      "Epoch 4/20\n",
      "132/132 [==============================] - 17s 126ms/step - loss: nan - accuracy: 0.6636 - val_loss: nan - val_accuracy: 0.6786 - lr: 0.0019\n",
      "Epoch 5/20\n",
      "132/132 [==============================] - 17s 127ms/step - loss: nan - accuracy: 0.6665 - val_loss: nan - val_accuracy: 0.6613 - lr: 0.0019\n",
      "Epoch 6/20\n",
      "132/132 [==============================] - 16s 119ms/step - loss: nan - accuracy: 0.6633 - val_loss: nan - val_accuracy: 0.6792 - lr: 0.0019\n",
      "Epoch 7/20\n",
      "132/132 [==============================] - 16s 123ms/step - loss: nan - accuracy: 0.6636 - val_loss: nan - val_accuracy: 0.6812 - lr: 0.0019\n",
      "Epoch 8/20\n",
      "132/132 [==============================] - 16s 124ms/step - loss: nan - accuracy: 0.6588 - val_loss: nan - val_accuracy: 0.6823 - lr: 0.0019\n",
      "Epoch 9/20\n",
      "132/132 [==============================] - 16s 124ms/step - loss: nan - accuracy: 0.6661 - val_loss: nan - val_accuracy: 0.6786 - lr: 0.0019\n",
      "Epoch 10/20\n",
      "132/132 [==============================] - 16s 124ms/step - loss: nan - accuracy: 0.6650 - val_loss: nan - val_accuracy: 0.6835 - lr: 0.0019\n",
      "Epoch 11/20\n",
      "132/132 [==============================] - 16s 121ms/step - loss: nan - accuracy: 0.6627 - val_loss: nan - val_accuracy: 0.6718 - lr: 0.0019\n",
      "Epoch 12/20\n",
      "132/132 [==============================] - 16s 123ms/step - loss: nan - accuracy: 0.6639 - val_loss: nan - val_accuracy: 0.6663 - lr: 0.0019\n",
      "Epoch 13/20\n",
      "132/132 [==============================] - 16s 123ms/step - loss: nan - accuracy: 0.6594 - val_loss: nan - val_accuracy: 0.6794 - lr: 0.0019\n",
      "Epoch 14/20\n",
      "132/132 [==============================] - 16s 124ms/step - loss: nan - accuracy: 0.6668 - val_loss: nan - val_accuracy: 0.6745 - lr: 0.0019\n",
      "Epoch 15/20\n",
      "132/132 [==============================] - 17s 126ms/step - loss: nan - accuracy: 0.6658 - val_loss: nan - val_accuracy: 0.6767 - lr: 0.0019\n",
      "Epoch 15: early stopping\n",
      "166/166 [==============================] - 2s 11ms/step\n",
      "Overall validation accuracy 0.00%\n"
     ]
    },
    {
     "name": "stderr",
     "output_type": "stream",
     "text": [
      "/tmp/ipykernel_1537983/1319790779.py:115: RuntimeWarning: invalid value encountered in cast\n",
      "  preds = np.rint(np.transpose(raw_preds))[0].astype(int)\n"
     ]
    },
    {
     "data": {
      "application/vnd.jupyter.widget-view+json": {
       "model_id": "4c80fc3a4f6648c4bb3c83f4806ccb7d",
       "version_major": 2,
       "version_minor": 0
      },
      "text/plain": [
       "VBox(children=(Label(value='0.003 MB of 0.003 MB uploaded\\r'), FloatProgress(value=1.0, max=1.0)))"
      ]
     },
     "metadata": {},
     "output_type": "display_data"
    },
    {
     "data": {
      "text/html": [
       "<style>\n",
       "    table.wandb td:nth-child(1) { padding: 0 10px; text-align: left ; width: auto;} td:nth-child(2) {text-align: left ; width: 100%}\n",
       "    .wandb-row { display: flex; flex-direction: row; flex-wrap: wrap; justify-content: flex-start; width: 100% }\n",
       "    .wandb-col { display: flex; flex-direction: column; flex-basis: 100%; flex: 1; padding: 10px; }\n",
       "    </style>\n",
       "<div class=\"wandb-row\"><div class=\"wandb-col\"><h3>Run history:</h3><br/><table class=\"wandb\"><tr><td>batch/accuracy</td><td>▂▄▅▅▄▅▆▅▅▆▅▅▆▁▄▅▆▅▅▅▅▅▆▆▃▅▅▄▅█▅▅▅▅▃▆▆▂▅▅</td></tr><tr><td>batch/batch_step</td><td>▁▁▁▁▂▂▂▂▂▃▃▃▃▃▃▄▄▄▄▄▅▅▅▅▅▅▆▆▆▆▆▇▇▇▇▇▇███</td></tr><tr><td>batch/learning_rate</td><td>▁▁▁▁▁▁▁▁▁▁▁▁▁▁▁▁▁▁▁▁▁▁▁▁▁▁▁▁▁▁▁▁▁▁▁▁▁▁▁▁</td></tr><tr><td>epoch/accuracy</td><td>▅▃▂▅█▅▅▁▇▆▄▅▂█▇</td></tr><tr><td>epoch/epoch</td><td>▁▁▂▃▃▃▄▅▅▅▆▇▇▇█</td></tr><tr><td>epoch/learning_rate</td><td>▁▁▁▁▁▁▁▁▁▁▁▁▁▁▁</td></tr><tr><td>epoch/lr</td><td>▁▁▁▁▁▁▁▁▁▁▁▁▁▁▁</td></tr><tr><td>epoch/val_accuracy</td><td>▅▆▅▆▁▇▇█▆█▄▃▇▅▆</td></tr></table><br/></div><div class=\"wandb-col\"><h3>Run summary:</h3><br/><table class=\"wandb\"><tr><td>batch/accuracy</td><td>0.66641</td></tr><tr><td>batch/batch_step</td><td>2020</td></tr><tr><td>batch/learning_rate</td><td>0.00187</td></tr><tr><td>batch/loss</td><td>nan</td></tr><tr><td>epoch/accuracy</td><td>0.66576</td></tr><tr><td>epoch/epoch</td><td>14</td></tr><tr><td>epoch/learning_rate</td><td>0.00187</td></tr><tr><td>epoch/loss</td><td>nan</td></tr><tr><td>epoch/lr</td><td>0.00187</td></tr><tr><td>epoch/val_accuracy</td><td>0.67674</td></tr><tr><td>epoch/val_loss</td><td>nan</td></tr></table><br/></div></div>"
      ],
      "text/plain": [
       "<IPython.core.display.HTML object>"
      ]
     },
     "metadata": {},
     "output_type": "display_data"
    },
    {
     "data": {
      "text/html": [
       " View run <strong style=\"color:#cdcd00\">sweet-sweep-8</strong> at: <a href='https://wandb.ai/ravioli1369-indian-institute-of-technology-bombay/BTSbot/runs/dgtbcm7n' target=\"_blank\">https://wandb.ai/ravioli1369-indian-institute-of-technology-bombay/BTSbot/runs/dgtbcm7n</a><br/> View project at: <a href='https://wandb.ai/ravioli1369-indian-institute-of-technology-bombay/BTSbot' target=\"_blank\">https://wandb.ai/ravioli1369-indian-institute-of-technology-bombay/BTSbot</a><br/>Synced 6 W&B file(s), 0 media file(s), 0 artifact file(s) and 0 other file(s)"
      ],
      "text/plain": [
       "<IPython.core.display.HTML object>"
      ]
     },
     "metadata": {},
     "output_type": "display_data"
    },
    {
     "data": {
      "text/html": [
       "Find logs at: <code>./wandb/run-20240806_023345-dgtbcm7n/logs</code>"
      ],
      "text/plain": [
       "<IPython.core.display.HTML object>"
      ]
     },
     "metadata": {},
     "output_type": "display_data"
    },
    {
     "data": {
      "text/html": [
       "The new W&B backend becomes opt-out in version 0.18.0; try it out with `wandb.require(\"core\")`! See https://wandb.me/wandb-core for more information."
      ],
      "text/plain": [
       "<IPython.core.display.HTML object>"
      ]
     },
     "metadata": {},
     "output_type": "display_data"
    },
    {
     "name": "stderr",
     "output_type": "stream",
     "text": [
      "\u001b[34m\u001b[1mwandb\u001b[0m: Agent Starting Run: u0sbhwdf with config:\n",
      "\u001b[34m\u001b[1mwandb\u001b[0m: \tLR_plateau_patience: 14\n",
      "\u001b[34m\u001b[1mwandb\u001b[0m: \tbatch_size: 61\n",
      "\u001b[34m\u001b[1mwandb\u001b[0m: \tbeta_1: 0.8324243428951501\n",
      "\u001b[34m\u001b[1mwandb\u001b[0m: \tbeta_2: 1.23382416106517\n",
      "\u001b[34m\u001b[1mwandb\u001b[0m: \tdropout_1: 0.18948834816556523\n",
      "\u001b[34m\u001b[1mwandb\u001b[0m: \tdropout_2: 0.3578048651973871\n",
      "\u001b[34m\u001b[1mwandb\u001b[0m: \tdropout_3: 0.20724433801995668\n",
      "\u001b[34m\u001b[1mwandb\u001b[0m: \tearly_stopping_patience: 12\n",
      "\u001b[34m\u001b[1mwandb\u001b[0m: \tepochs: 18\n",
      "\u001b[34m\u001b[1mwandb\u001b[0m: \timage_size: (63,63,3)\n",
      "\u001b[34m\u001b[1mwandb\u001b[0m: \tlearning_rate: 0.0019662711496902883\n",
      "\u001b[34m\u001b[1mwandb\u001b[0m: \tloss: binary_crossentropy\n",
      "\u001b[34m\u001b[1mwandb\u001b[0m: \tmetadata_size: (14,)\n",
      "\u001b[34m\u001b[1mwandb\u001b[0m: \toptimizer: adam\n",
      "\u001b[34m\u001b[1mwandb\u001b[0m: \trandom_seed: 42\n",
      "\u001b[34m\u001b[1mwandb\u001b[0m: \treduce_LR_factor: 0.6350237968388945\n",
      "\u001b[34m\u001b[1mwandb\u001b[0m: \treduce_LR_minLR: 1.961983586779117e-06\n",
      "\u001b[34m\u001b[1mwandb\u001b[0m: \ttrain_data_version: ZTFSS\n"
     ]
    },
    {
     "data": {
      "text/html": [
       "Tracking run with wandb version 0.17.5"
      ],
      "text/plain": [
       "<IPython.core.display.HTML object>"
      ]
     },
     "metadata": {},
     "output_type": "display_data"
    },
    {
     "data": {
      "text/html": [
       "Run data is saved locally in <code>/home/exouser/Documents/ztf_summer_school_2024/lectures/01-ml/wandb/run-20240806_023808-u0sbhwdf</code>"
      ],
      "text/plain": [
       "<IPython.core.display.HTML object>"
      ]
     },
     "metadata": {},
     "output_type": "display_data"
    },
    {
     "data": {
      "text/html": [
       "Syncing run <strong><a href='https://wandb.ai/ravioli1369-indian-institute-of-technology-bombay/BTSbot/runs/u0sbhwdf' target=\"_blank\">effortless-sweep-9</a></strong> to <a href='https://wandb.ai/ravioli1369-indian-institute-of-technology-bombay/BTSbot' target=\"_blank\">Weights & Biases</a> (<a href='https://wandb.me/run' target=\"_blank\">docs</a>)<br/>Sweep page: <a href='https://wandb.ai/ravioli1369-indian-institute-of-technology-bombay/BTSbot/sweeps/kloha184' target=\"_blank\">https://wandb.ai/ravioli1369-indian-institute-of-technology-bombay/BTSbot/sweeps/kloha184</a>"
      ],
      "text/plain": [
       "<IPython.core.display.HTML object>"
      ]
     },
     "metadata": {},
     "output_type": "display_data"
    },
    {
     "data": {
      "text/html": [
       " View project at <a href='https://wandb.ai/ravioli1369-indian-institute-of-technology-bombay/BTSbot' target=\"_blank\">https://wandb.ai/ravioli1369-indian-institute-of-technology-bombay/BTSbot</a>"
      ],
      "text/plain": [
       "<IPython.core.display.HTML object>"
      ]
     },
     "metadata": {},
     "output_type": "display_data"
    },
    {
     "data": {
      "text/html": [
       " View sweep at <a href='https://wandb.ai/ravioli1369-indian-institute-of-technology-bombay/BTSbot/sweeps/kloha184' target=\"_blank\">https://wandb.ai/ravioli1369-indian-institute-of-technology-bombay/BTSbot/sweeps/kloha184</a>"
      ],
      "text/plain": [
       "<IPython.core.display.HTML object>"
      ]
     },
     "metadata": {},
     "output_type": "display_data"
    },
    {
     "data": {
      "text/html": [
       " View run at <a href='https://wandb.ai/ravioli1369-indian-institute-of-technology-bombay/BTSbot/runs/u0sbhwdf' target=\"_blank\">https://wandb.ai/ravioli1369-indian-institute-of-technology-bombay/BTSbot/runs/u0sbhwdf</a>"
      ],
      "text/plain": [
       "<IPython.core.display.HTML object>"
      ]
     },
     "metadata": {},
     "output_type": "display_data"
    },
    {
     "name": "stdout",
     "output_type": "stream",
     "text": [
      "Epoch 1/18\n",
      "108/108 [==============================] - 15s 132ms/step - loss: nan - accuracy: 0.6614 - val_loss: nan - val_accuracy: 0.6752 - lr: 0.0020\n",
      "Epoch 2/18\n",
      "108/108 [==============================] - 15s 138ms/step - loss: nan - accuracy: 0.6612 - val_loss: nan - val_accuracy: 0.6764 - lr: 0.0020\n",
      "Epoch 3/18\n",
      "108/108 [==============================] - 15s 143ms/step - loss: nan - accuracy: 0.6603 - val_loss: nan - val_accuracy: 0.6740 - lr: 0.0020\n",
      "Epoch 4/18\n",
      "108/108 [==============================] - 15s 141ms/step - loss: nan - accuracy: 0.6641 - val_loss: nan - val_accuracy: 0.6819 - lr: 0.0020\n",
      "Epoch 5/18\n",
      "108/108 [==============================] - 15s 138ms/step - loss: nan - accuracy: 0.6659 - val_loss: nan - val_accuracy: 0.6727 - lr: 0.0020\n",
      "Epoch 6/18\n",
      "108/108 [==============================] - 15s 141ms/step - loss: nan - accuracy: 0.6629 - val_loss: nan - val_accuracy: 0.6661 - lr: 0.0020\n",
      "Epoch 7/18\n",
      "108/108 [==============================] - 16s 145ms/step - loss: nan - accuracy: 0.6644 - val_loss: nan - val_accuracy: 0.6800 - lr: 0.0020\n",
      "Epoch 8/18\n",
      "108/108 [==============================] - 16s 147ms/step - loss: nan - accuracy: 0.6581 - val_loss: nan - val_accuracy: 0.6752 - lr: 0.0020\n",
      "Epoch 9/18\n",
      "108/108 [==============================] - 16s 148ms/step - loss: nan - accuracy: 0.6673 - val_loss: nan - val_accuracy: 0.6788 - lr: 0.0020\n",
      "Epoch 10/18\n",
      "108/108 [==============================] - 16s 145ms/step - loss: nan - accuracy: 0.6659 - val_loss: nan - val_accuracy: 0.6740 - lr: 0.0020\n",
      "Epoch 11/18\n",
      "108/108 [==============================] - 15s 141ms/step - loss: nan - accuracy: 0.6612 - val_loss: nan - val_accuracy: 0.6819 - lr: 0.0020\n",
      "Epoch 12/18\n",
      "108/108 [==============================] - 15s 141ms/step - loss: nan - accuracy: 0.6634 - val_loss: nan - val_accuracy: 0.6727 - lr: 0.0020\n",
      "Epoch 12: early stopping\n",
      "136/136 [==============================] - 2s 14ms/step\n",
      "Overall validation accuracy 0.00%\n"
     ]
    },
    {
     "name": "stderr",
     "output_type": "stream",
     "text": [
      "/tmp/ipykernel_1537983/1319790779.py:115: RuntimeWarning: invalid value encountered in cast\n",
      "  preds = np.rint(np.transpose(raw_preds))[0].astype(int)\n"
     ]
    },
    {
     "data": {
      "application/vnd.jupyter.widget-view+json": {
       "model_id": "394666a9e8d84443bf814f2fd92734ed",
       "version_major": 2,
       "version_minor": 0
      },
      "text/plain": [
       "VBox(children=(Label(value='0.003 MB of 0.003 MB uploaded\\r'), FloatProgress(value=1.0, max=1.0)))"
      ]
     },
     "metadata": {},
     "output_type": "display_data"
    },
    {
     "data": {
      "text/html": [
       "<style>\n",
       "    table.wandb td:nth-child(1) { padding: 0 10px; text-align: left ; width: auto;} td:nth-child(2) {text-align: left ; width: 100%}\n",
       "    .wandb-row { display: flex; flex-direction: row; flex-wrap: wrap; justify-content: flex-start; width: 100% }\n",
       "    .wandb-col { display: flex; flex-direction: column; flex-basis: 100%; flex: 1; padding: 10px; }\n",
       "    </style>\n",
       "<div class=\"wandb-row\"><div class=\"wandb-col\"><h3>Run history:</h3><br/><table class=\"wandb\"><tr><td>batch/accuracy</td><td>▁▁▄▄▄▃▅▆▅▄▂▆▅▅▄▅▆▄▄▅█▄▄▅▅▅▄▇▆▅▃▅▅▂▂▄█▆▄▅</td></tr><tr><td>batch/batch_step</td><td>▁▁▁▂▂▂▂▂▂▃▃▃▃▃▃▄▄▄▄▄▅▅▅▅▅▅▆▆▆▆▆▆▇▇▇▇▇███</td></tr><tr><td>batch/learning_rate</td><td>▁▁▁▁▁▁▁▁▁▁▁▁▁▁▁▁▁▁▁▁▁▁▁▁▁▁▁▁▁▁▁▁▁▁▁▁▁▁▁▁</td></tr><tr><td>epoch/accuracy</td><td>▃▃▃▆▇▅▆▁█▇▃▅</td></tr><tr><td>epoch/epoch</td><td>▁▂▂▃▄▄▅▅▆▇▇█</td></tr><tr><td>epoch/learning_rate</td><td>▁▁▁▁▁▁▁▁▁▁▁▁</td></tr><tr><td>epoch/lr</td><td>▁▁▁▁▁▁▁▁▁▁▁▁</td></tr><tr><td>epoch/val_accuracy</td><td>▅▆▄█▄▁▇▅▇▄█▄</td></tr></table><br/></div><div class=\"wandb-col\"><h3>Run summary:</h3><br/><table class=\"wandb\"><tr><td>batch/accuracy</td><td>0.66398</td></tr><tr><td>batch/batch_step</td><td>1315</td></tr><tr><td>batch/learning_rate</td><td>0.00197</td></tr><tr><td>batch/loss</td><td>nan</td></tr><tr><td>epoch/accuracy</td><td>0.66337</td></tr><tr><td>epoch/epoch</td><td>11</td></tr><tr><td>epoch/learning_rate</td><td>0.00197</td></tr><tr><td>epoch/loss</td><td>nan</td></tr><tr><td>epoch/lr</td><td>0.00197</td></tr><tr><td>epoch/val_accuracy</td><td>0.67275</td></tr><tr><td>epoch/val_loss</td><td>nan</td></tr></table><br/></div></div>"
      ],
      "text/plain": [
       "<IPython.core.display.HTML object>"
      ]
     },
     "metadata": {},
     "output_type": "display_data"
    },
    {
     "data": {
      "text/html": [
       " View run <strong style=\"color:#cdcd00\">effortless-sweep-9</strong> at: <a href='https://wandb.ai/ravioli1369-indian-institute-of-technology-bombay/BTSbot/runs/u0sbhwdf' target=\"_blank\">https://wandb.ai/ravioli1369-indian-institute-of-technology-bombay/BTSbot/runs/u0sbhwdf</a><br/> View project at: <a href='https://wandb.ai/ravioli1369-indian-institute-of-technology-bombay/BTSbot' target=\"_blank\">https://wandb.ai/ravioli1369-indian-institute-of-technology-bombay/BTSbot</a><br/>Synced 6 W&B file(s), 0 media file(s), 0 artifact file(s) and 0 other file(s)"
      ],
      "text/plain": [
       "<IPython.core.display.HTML object>"
      ]
     },
     "metadata": {},
     "output_type": "display_data"
    },
    {
     "data": {
      "text/html": [
       "Find logs at: <code>./wandb/run-20240806_023808-u0sbhwdf/logs</code>"
      ],
      "text/plain": [
       "<IPython.core.display.HTML object>"
      ]
     },
     "metadata": {},
     "output_type": "display_data"
    },
    {
     "data": {
      "text/html": [
       "The new W&B backend becomes opt-out in version 0.18.0; try it out with `wandb.require(\"core\")`! See https://wandb.me/wandb-core for more information."
      ],
      "text/plain": [
       "<IPython.core.display.HTML object>"
      ]
     },
     "metadata": {},
     "output_type": "display_data"
    },
    {
     "name": "stderr",
     "output_type": "stream",
     "text": [
      "\u001b[34m\u001b[1mwandb\u001b[0m: Sweep Agent: Waiting for job.\n",
      "\u001b[34m\u001b[1mwandb\u001b[0m: Job received.\n",
      "\u001b[34m\u001b[1mwandb\u001b[0m: Agent Starting Run: 6znls7kq with config:\n",
      "\u001b[34m\u001b[1mwandb\u001b[0m: \tLR_plateau_patience: 38\n",
      "\u001b[34m\u001b[1mwandb\u001b[0m: \tbatch_size: 60\n",
      "\u001b[34m\u001b[1mwandb\u001b[0m: \tbeta_1: 0.8409906040936426\n",
      "\u001b[34m\u001b[1mwandb\u001b[0m: \tbeta_2: 1.9543565946591324\n",
      "\u001b[34m\u001b[1mwandb\u001b[0m: \tdropout_1: 0.3160857222914196\n",
      "\u001b[34m\u001b[1mwandb\u001b[0m: \tdropout_2: 0.23272847587534343\n",
      "\u001b[34m\u001b[1mwandb\u001b[0m: \tdropout_3: 0.27753704969551435\n",
      "\u001b[34m\u001b[1mwandb\u001b[0m: \tearly_stopping_patience: 9\n",
      "\u001b[34m\u001b[1mwandb\u001b[0m: \tepochs: 13\n",
      "\u001b[34m\u001b[1mwandb\u001b[0m: \timage_size: (63,63,3)\n",
      "\u001b[34m\u001b[1mwandb\u001b[0m: \tlearning_rate: 0.0009398905545545144\n",
      "\u001b[34m\u001b[1mwandb\u001b[0m: \tloss: binary_crossentropy\n",
      "\u001b[34m\u001b[1mwandb\u001b[0m: \tmetadata_size: (14,)\n",
      "\u001b[34m\u001b[1mwandb\u001b[0m: \toptimizer: adam\n",
      "\u001b[34m\u001b[1mwandb\u001b[0m: \trandom_seed: 42\n",
      "\u001b[34m\u001b[1mwandb\u001b[0m: \treduce_LR_factor: 0.32901281338324584\n",
      "\u001b[34m\u001b[1mwandb\u001b[0m: \treduce_LR_minLR: 1.5905109362895511e-06\n",
      "\u001b[34m\u001b[1mwandb\u001b[0m: \ttrain_data_version: ZTFSS\n"
     ]
    },
    {
     "data": {
      "text/html": [
       "Tracking run with wandb version 0.17.5"
      ],
      "text/plain": [
       "<IPython.core.display.HTML object>"
      ]
     },
     "metadata": {},
     "output_type": "display_data"
    },
    {
     "data": {
      "text/html": [
       "Run data is saved locally in <code>/home/exouser/Documents/ztf_summer_school_2024/lectures/01-ml/wandb/run-20240806_024135-6znls7kq</code>"
      ],
      "text/plain": [
       "<IPython.core.display.HTML object>"
      ]
     },
     "metadata": {},
     "output_type": "display_data"
    },
    {
     "data": {
      "text/html": [
       "Syncing run <strong><a href='https://wandb.ai/ravioli1369-indian-institute-of-technology-bombay/BTSbot/runs/6znls7kq' target=\"_blank\">curious-sweep-10</a></strong> to <a href='https://wandb.ai/ravioli1369-indian-institute-of-technology-bombay/BTSbot' target=\"_blank\">Weights & Biases</a> (<a href='https://wandb.me/run' target=\"_blank\">docs</a>)<br/>Sweep page: <a href='https://wandb.ai/ravioli1369-indian-institute-of-technology-bombay/BTSbot/sweeps/kloha184' target=\"_blank\">https://wandb.ai/ravioli1369-indian-institute-of-technology-bombay/BTSbot/sweeps/kloha184</a>"
      ],
      "text/plain": [
       "<IPython.core.display.HTML object>"
      ]
     },
     "metadata": {},
     "output_type": "display_data"
    },
    {
     "data": {
      "text/html": [
       " View project at <a href='https://wandb.ai/ravioli1369-indian-institute-of-technology-bombay/BTSbot' target=\"_blank\">https://wandb.ai/ravioli1369-indian-institute-of-technology-bombay/BTSbot</a>"
      ],
      "text/plain": [
       "<IPython.core.display.HTML object>"
      ]
     },
     "metadata": {},
     "output_type": "display_data"
    },
    {
     "data": {
      "text/html": [
       " View sweep at <a href='https://wandb.ai/ravioli1369-indian-institute-of-technology-bombay/BTSbot/sweeps/kloha184' target=\"_blank\">https://wandb.ai/ravioli1369-indian-institute-of-technology-bombay/BTSbot/sweeps/kloha184</a>"
      ],
      "text/plain": [
       "<IPython.core.display.HTML object>"
      ]
     },
     "metadata": {},
     "output_type": "display_data"
    },
    {
     "data": {
      "text/html": [
       " View run at <a href='https://wandb.ai/ravioli1369-indian-institute-of-technology-bombay/BTSbot/runs/6znls7kq' target=\"_blank\">https://wandb.ai/ravioli1369-indian-institute-of-technology-bombay/BTSbot/runs/6znls7kq</a>"
      ],
      "text/plain": [
       "<IPython.core.display.HTML object>"
      ]
     },
     "metadata": {},
     "output_type": "display_data"
    },
    {
     "name": "stdout",
     "output_type": "stream",
     "text": [
      "Epoch 1/13\n",
      "110/110 [==============================] - 15s 134ms/step - loss: nan - accuracy: 0.6621 - val_loss: nan - val_accuracy: 0.6716 - lr: 9.3989e-04\n",
      "Epoch 2/13\n",
      "110/110 [==============================] - 16s 144ms/step - loss: nan - accuracy: 0.6605 - val_loss: nan - val_accuracy: 0.6776 - lr: 9.3989e-04\n",
      "Epoch 3/13\n",
      "110/110 [==============================] - 15s 136ms/step - loss: nan - accuracy: 0.6602 - val_loss: nan - val_accuracy: 0.6769 - lr: 9.3989e-04\n",
      "Epoch 4/13\n",
      "110/110 [==============================] - 15s 141ms/step - loss: nan - accuracy: 0.6654 - val_loss: nan - val_accuracy: 0.6788 - lr: 9.3989e-04\n",
      "Epoch 5/13\n",
      "110/110 [==============================] - 15s 137ms/step - loss: nan - accuracy: 0.6647 - val_loss: nan - val_accuracy: 0.6593 - lr: 9.3989e-04\n",
      "Epoch 6/13\n",
      "110/110 [==============================] - 16s 143ms/step - loss: nan - accuracy: 0.6631 - val_loss: nan - val_accuracy: 0.6788 - lr: 9.3989e-04\n",
      "Epoch 7/13\n",
      "110/110 [==============================] - 16s 146ms/step - loss: nan - accuracy: 0.6640 - val_loss: nan - val_accuracy: 0.6833 - lr: 9.3989e-04\n",
      "Epoch 8/13\n",
      "110/110 [==============================] - 16s 141ms/step - loss: nan - accuracy: 0.6591 - val_loss: nan - val_accuracy: 0.6801 - lr: 9.3989e-04\n",
      "Epoch 9/13\n",
      "110/110 [==============================] - 16s 142ms/step - loss: nan - accuracy: 0.6680 - val_loss: nan - val_accuracy: 0.6757 - lr: 9.3989e-04\n",
      "Epoch 9: early stopping\n",
      "139/139 [==============================] - 2s 14ms/step\n",
      "Overall validation accuracy 0.00%\n"
     ]
    },
    {
     "name": "stderr",
     "output_type": "stream",
     "text": [
      "/tmp/ipykernel_1537983/1319790779.py:115: RuntimeWarning: invalid value encountered in cast\n",
      "  preds = np.rint(np.transpose(raw_preds))[0].astype(int)\n"
     ]
    },
    {
     "data": {
      "application/vnd.jupyter.widget-view+json": {
       "model_id": "42a79ec9234e4ce083aeffa6d3ff6cef",
       "version_major": 2,
       "version_minor": 0
      },
      "text/plain": [
       "VBox(children=(Label(value='0.003 MB of 0.003 MB uploaded\\r'), FloatProgress(value=1.0, max=1.0)))"
      ]
     },
     "metadata": {},
     "output_type": "display_data"
    },
    {
     "data": {
      "text/html": [
       "<style>\n",
       "    table.wandb td:nth-child(1) { padding: 0 10px; text-align: left ; width: auto;} td:nth-child(2) {text-align: left ; width: 100%}\n",
       "    .wandb-row { display: flex; flex-direction: row; flex-wrap: wrap; justify-content: flex-start; width: 100% }\n",
       "    .wandb-col { display: flex; flex-direction: column; flex-basis: 100%; flex: 1; padding: 10px; }\n",
       "    </style>\n",
       "<div class=\"wandb-row\"><div class=\"wandb-col\"><h3>Run history:</h3><br/><table class=\"wandb\"><tr><td>batch/accuracy</td><td>▁▄▅▆▆▆▆▅▆█▇▆▆▆▇▇▇▆▅▆▆▆▅▆▆▆▆█▆▆▆▅▇▆▆▆▇▇▇▆</td></tr><tr><td>batch/batch_step</td><td>▁▁▁▁▂▂▂▂▂▃▃▃▃▃▃▄▄▄▄▄▅▅▅▅▅▅▆▆▆▆▆▇▇▇▇▇▇███</td></tr><tr><td>batch/learning_rate</td><td>▁▁▁▁▁▁▁▁▁▁▁▁▁▁▁▁▁▁▁▁▁▁▁▁▁▁▁▁▁▁▁▁▁▁▁▁▁▁▁▁</td></tr><tr><td>epoch/accuracy</td><td>▃▂▂▆▅▄▅▁█</td></tr><tr><td>epoch/epoch</td><td>▁▂▃▄▅▅▆▇█</td></tr><tr><td>epoch/learning_rate</td><td>▁▁▁▁▁▁▁▁▁</td></tr><tr><td>epoch/lr</td><td>▁▁▁▁▁▁▁▁▁</td></tr><tr><td>epoch/val_accuracy</td><td>▅▆▆▇▁▇█▇▆</td></tr></table><br/></div><div class=\"wandb-col\"><h3>Run summary:</h3><br/><table class=\"wandb\"><tr><td>batch/accuracy</td><td>0.66582</td></tr><tr><td>batch/batch_step</td><td>985</td></tr><tr><td>batch/learning_rate</td><td>0.00094</td></tr><tr><td>batch/loss</td><td>nan</td></tr><tr><td>epoch/accuracy</td><td>0.66799</td></tr><tr><td>epoch/epoch</td><td>8</td></tr><tr><td>epoch/learning_rate</td><td>0.00094</td></tr><tr><td>epoch/loss</td><td>nan</td></tr><tr><td>epoch/lr</td><td>0.00094</td></tr><tr><td>epoch/val_accuracy</td><td>0.67568</td></tr><tr><td>epoch/val_loss</td><td>nan</td></tr></table><br/></div></div>"
      ],
      "text/plain": [
       "<IPython.core.display.HTML object>"
      ]
     },
     "metadata": {},
     "output_type": "display_data"
    },
    {
     "data": {
      "text/html": [
       " View run <strong style=\"color:#cdcd00\">curious-sweep-10</strong> at: <a href='https://wandb.ai/ravioli1369-indian-institute-of-technology-bombay/BTSbot/runs/6znls7kq' target=\"_blank\">https://wandb.ai/ravioli1369-indian-institute-of-technology-bombay/BTSbot/runs/6znls7kq</a><br/> View project at: <a href='https://wandb.ai/ravioli1369-indian-institute-of-technology-bombay/BTSbot' target=\"_blank\">https://wandb.ai/ravioli1369-indian-institute-of-technology-bombay/BTSbot</a><br/>Synced 6 W&B file(s), 0 media file(s), 0 artifact file(s) and 0 other file(s)"
      ],
      "text/plain": [
       "<IPython.core.display.HTML object>"
      ]
     },
     "metadata": {},
     "output_type": "display_data"
    },
    {
     "data": {
      "text/html": [
       "Find logs at: <code>./wandb/run-20240806_024135-6znls7kq/logs</code>"
      ],
      "text/plain": [
       "<IPython.core.display.HTML object>"
      ]
     },
     "metadata": {},
     "output_type": "display_data"
    },
    {
     "data": {
      "text/html": [
       "The new W&B backend becomes opt-out in version 0.18.0; try it out with `wandb.require(\"core\")`! See https://wandb.me/wandb-core for more information."
      ],
      "text/plain": [
       "<IPython.core.display.HTML object>"
      ]
     },
     "metadata": {},
     "output_type": "display_data"
    }
   ],
   "source": [
    "# create a sweep on WandB by going to the project page and clicking \"Sweep\"\n",
    "sweep_id = \"kloha184\" #replace with your sweep id here\n",
    "if not sweep_id:\n",
    "    raise Exception(\"Please provide a sweep id\")\n",
    "wandb.agent(sweep_id=sweep_id, function=sweep_train, count=10, project=\"BTSbot\")"
   ]
  },
  {
   "cell_type": "markdown",
   "metadata": {},
   "source": [
    "*PS: You might see that often, the loss is `nan`. This is simply because the parameters used by that particular sweep yield very bad results, which get the model to diverge. This is why it's important to have a large number of runs in the sweep, to make sure we don't miss the best hyperparameters because of a few bad runs. But also, create new sweeps with tighter constraints for some of the hyperparameters.*"
   ]
  },
  {
   "cell_type": "markdown",
   "metadata": {},
   "source": [
    "----\n",
    "\n",
    "##### We'd like you to try and beat the best score we've got so far! \n",
    "\n",
    "Here's what you can do:\n",
    "\n",
    "**Go back to regular training (without any sweeps with wandb, just regular training)**\n",
    "\n",
    "1. Try different loss functions and optimizers, and/or improve on how the initial weights are initialized.\n",
    "\n",
    "2. Perform data augmentation on the cutouts, and use the augmented data to train the model. You can use the tf.keras.preprocessing.image.ImageDataGenerator (which you'll find in the code above already) to do this. You could also do the same for the metadata, but it's a little more complicated.\n",
    "\n",
    "3. Play with the model's architecture. You can add, remove, or modify the layers as you wish. You could also try to use a different CNN architecture, such as ResNet, EfficientNet, etc.\n",
    "\n",
    "4. Change the features used in the metadata model. You can add, remove, or modify the features used. You could also compute new features from the existing ones.\n",
    "\n",
    "5. Create a new clean sweep on wandb.ai, with the configuration of your choice, adding, modifying, or removing hyperparameters as you wish. You might want to increase the worker count to cover more of the parameter space.\n",
    "\n",
    "6. Improve time needed for inference. You can try to reduce the number of parameters in the model, or use a more efficient CNN architecture to make it more efficient. This is *key* for the model to be used in production, as we expect it to run on thousands of alerts every day.\n",
    "\n",
    "7. Be creative! There are an infinite number of ways to improve a model, and we're sure you can come up with something we haven't thought of :)\n",
    "\n",
    "**Once you have a model you are happy with, you should use the code you wrote in the [Testing the model](#Testing-the-model) section to evaluate it on the test set, and plot some of the metrics.**\n",
    "\n",
    "----"
   ]
  }
 ],
 "metadata": {
  "kernelspec": {
   "display_name": "Python 3",
   "language": "python",
   "name": "python3"
  },
  "language_info": {
   "codemirror_mode": {
    "name": "ipython",
    "version": 3
   },
   "file_extension": ".py",
   "mimetype": "text/x-python",
   "name": "python",
   "nbconvert_exporter": "python",
   "pygments_lexer": "ipython3",
   "version": "3.10.14"
  },
  "orig_nbformat": 4
 },
 "nbformat": 4,
 "nbformat_minor": 2
}
